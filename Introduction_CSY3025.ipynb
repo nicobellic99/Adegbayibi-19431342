{
  "nbformat": 4,
  "nbformat_minor": 0,
  "metadata": {
    "colab": {
      "provenance": [],
      "include_colab_link": true
    },
    "kernelspec": {
      "name": "python3",
      "display_name": "Python 3"
    },
    "language_info": {
      "name": "python"
    }
  },
  "cells": [
    {
      "cell_type": "markdown",
      "metadata": {
        "id": "view-in-github",
        "colab_type": "text"
      },
      "source": [
        "<a href=\"https://colab.research.google.com/github/nicobellic99/Adegbayibi-19431342/blob/master/Introduction_CSY3025.ipynb\" target=\"_parent\"><img src=\"https://colab.research.google.com/assets/colab-badge.svg\" alt=\"Open In Colab\"/></a>"
      ]
    },
    {
      "cell_type": "markdown",
      "source": [
        "## **Numpy**"
      ],
      "metadata": {
        "id": "c474rfshwqym"
      }
    },
    {
      "cell_type": "code",
      "source": [
        "import numpy as np\n",
        "a = np.array([1,3,5,7,9]) \n",
        "b = np.array([2,4,6,8,10])\n",
        "c = a + b\n",
        "print(c) "
      ],
      "metadata": {
        "colab": {
          "base_uri": "https://localhost:8080/"
        },
        "id": "sB4_NvIfwrJF",
        "outputId": "f0bf65c6-c336-4205-dc56-9996b265600d"
      },
      "execution_count": null,
      "outputs": [
        {
          "output_type": "stream",
          "name": "stdout",
          "text": [
            "[ 3  7 11 15 19]\n"
          ]
        }
      ]
    },
    {
      "cell_type": "code",
      "source": [
        "import numpy as np\n",
        "nparray = np.array([[1,3,5],[7,9,2],[6,8,10]])\n",
        "print(nparray.ndim)\n",
        "print(nparray.shape) \n",
        "print(nparray.size)\n",
        "print(nparray.dtype)\n",
        "print(nparray.itemsize)\n",
        "print(nparray.T)\n",
        "print(nparray.data)\n",
        "\n"
      ],
      "metadata": {
        "colab": {
          "base_uri": "https://localhost:8080/"
        },
        "id": "yhbLhFjKyjIR",
        "outputId": "f68ade3f-83f2-4031-8028-ca9f07757bb5"
      },
      "execution_count": null,
      "outputs": [
        {
          "output_type": "stream",
          "name": "stdout",
          "text": [
            "2\n",
            "(3, 3)\n",
            "9\n",
            "int64\n",
            "8\n",
            "[[ 1  7  6]\n",
            " [ 3  9  8]\n",
            " [ 5  2 10]]\n",
            "<memory at 0x7fe51daa2040>\n"
          ]
        }
      ]
    },
    {
      "cell_type": "code",
      "source": [
        "import numpy as np\n",
        "nparray = np.array([[1,3,5],[7,9,2],[6,8,10]])\n",
        "print(a.sum())\n",
        "print(a.mean())\n",
        "print(a.std())\n",
        "print(a.max())\n",
        "print(a.min())"
      ],
      "metadata": {
        "colab": {
          "base_uri": "https://localhost:8080/"
        },
        "id": "y9FYIdXl20FO",
        "outputId": "80e7b6e4-b0a7-43db-a5ce-5223d25a7259"
      },
      "execution_count": null,
      "outputs": [
        {
          "output_type": "stream",
          "name": "stdout",
          "text": [
            "25\n",
            "5.0\n",
            "2.8284271247461903\n",
            "9\n",
            "1\n"
          ]
        }
      ]
    },
    {
      "cell_type": "code",
      "source": [
        "a = np.array([1,2,3], float) \n",
        "b = np.array([5,2,6], float) \n",
        "print(\"a+b=\",a + b)  \n",
        "print(\"a-b=\",a - b)  \n",
        "print(\"a*b=\",a * b)  \n",
        "print(\"a/b=\",b / a)\n",
        "print(\"a%b=\",a % b ) \n",
        "print(\"a**b=\",b**a ) \n",
        "\n",
        "a = np.array([[1, 2], [3, 4], [5, 6]], float) \n",
        "b = np.array([-1, 3], float) \n",
        "print(a)  \n",
        "print(b)   \n",
        "print(\"a+b=\",a + b )"
      ],
      "metadata": {
        "colab": {
          "base_uri": "https://localhost:8080/"
        },
        "id": "iXp7Kofz3UNW",
        "outputId": "df21e049-b07f-4fa3-a1ed-743b83a0ba1a"
      },
      "execution_count": null,
      "outputs": [
        {
          "output_type": "stream",
          "name": "stdout",
          "text": [
            "a+b= [6. 4. 9.]\n",
            "a-b= [-4.  0. -3.]\n",
            "a*b= [ 5.  4. 18.]\n",
            "a/b= [5. 1. 2.]\n",
            "a%b= [1. 0. 3.]\n",
            "a**b= [  5.   4. 216.]\n",
            "[[1. 2.]\n",
            " [3. 4.]\n",
            " [5. 6.]]\n",
            "[-1.  3.]\n",
            "a+b= [[0. 5.]\n",
            " [2. 7.]\n",
            " [4. 9.]]\n"
          ]
        }
      ]
    },
    {
      "cell_type": "markdown",
      "source": [
        "## **Pandas DataFrames**"
      ],
      "metadata": {
        "id": "jrj6QQGHl4z2"
      }
    },
    {
      "cell_type": "code",
      "source": [
        "import pandas as pd\n",
        "\n",
        "data = {\n",
        "  \"Gender\": ['male',\"female\",\"female\",\"male\",\"female\",\"female\"],\n",
        "  \"Age\": [25, 40, 34, 32,27,44]\n",
        "}\n",
        " \n",
        "df = pd.DataFrame(data)\n",
        "print(df) "
      ],
      "metadata": {
        "colab": {
          "base_uri": "https://localhost:8080/"
        },
        "id": "fmkfe6PBbouX",
        "outputId": "a04fac4a-27cf-4464-d734-75365802051d"
      },
      "execution_count": null,
      "outputs": [
        {
          "output_type": "stream",
          "name": "stdout",
          "text": [
            "   Gender  Age\n",
            "0    male   25\n",
            "1  female   40\n",
            "2  female   34\n",
            "3    male   32\n",
            "4  female   27\n",
            "5  female   44\n"
          ]
        }
      ]
    },
    {
      "cell_type": "code",
      "source": [
        "df.head()\n"
      ],
      "metadata": {
        "colab": {
          "base_uri": "https://localhost:8080/",
          "height": 206
        },
        "id": "v2E_KlWIlBAd",
        "outputId": "e2d59ebb-b253-4d8f-b20e-289e071152f7"
      },
      "execution_count": null,
      "outputs": [
        {
          "output_type": "execute_result",
          "data": {
            "text/plain": [
              "   Gender  Age\n",
              "0    male   25\n",
              "1  female   40\n",
              "2  female   34\n",
              "3    male   32\n",
              "4  female   27"
            ],
            "text/html": [
              "\n",
              "  <div id=\"df-a742f2ff-cec8-4005-89c1-1d6eebb68e9e\">\n",
              "    <div class=\"colab-df-container\">\n",
              "      <div>\n",
              "<style scoped>\n",
              "    .dataframe tbody tr th:only-of-type {\n",
              "        vertical-align: middle;\n",
              "    }\n",
              "\n",
              "    .dataframe tbody tr th {\n",
              "        vertical-align: top;\n",
              "    }\n",
              "\n",
              "    .dataframe thead th {\n",
              "        text-align: right;\n",
              "    }\n",
              "</style>\n",
              "<table border=\"1\" class=\"dataframe\">\n",
              "  <thead>\n",
              "    <tr style=\"text-align: right;\">\n",
              "      <th></th>\n",
              "      <th>Gender</th>\n",
              "      <th>Age</th>\n",
              "    </tr>\n",
              "  </thead>\n",
              "  <tbody>\n",
              "    <tr>\n",
              "      <th>0</th>\n",
              "      <td>male</td>\n",
              "      <td>25</td>\n",
              "    </tr>\n",
              "    <tr>\n",
              "      <th>1</th>\n",
              "      <td>female</td>\n",
              "      <td>40</td>\n",
              "    </tr>\n",
              "    <tr>\n",
              "      <th>2</th>\n",
              "      <td>female</td>\n",
              "      <td>34</td>\n",
              "    </tr>\n",
              "    <tr>\n",
              "      <th>3</th>\n",
              "      <td>male</td>\n",
              "      <td>32</td>\n",
              "    </tr>\n",
              "    <tr>\n",
              "      <th>4</th>\n",
              "      <td>female</td>\n",
              "      <td>27</td>\n",
              "    </tr>\n",
              "  </tbody>\n",
              "</table>\n",
              "</div>\n",
              "      <button class=\"colab-df-convert\" onclick=\"convertToInteractive('df-a742f2ff-cec8-4005-89c1-1d6eebb68e9e')\"\n",
              "              title=\"Convert this dataframe to an interactive table.\"\n",
              "              style=\"display:none;\">\n",
              "        \n",
              "  <svg xmlns=\"http://www.w3.org/2000/svg\" height=\"24px\"viewBox=\"0 0 24 24\"\n",
              "       width=\"24px\">\n",
              "    <path d=\"M0 0h24v24H0V0z\" fill=\"none\"/>\n",
              "    <path d=\"M18.56 5.44l.94 2.06.94-2.06 2.06-.94-2.06-.94-.94-2.06-.94 2.06-2.06.94zm-11 1L8.5 8.5l.94-2.06 2.06-.94-2.06-.94L8.5 2.5l-.94 2.06-2.06.94zm10 10l.94 2.06.94-2.06 2.06-.94-2.06-.94-.94-2.06-.94 2.06-2.06.94z\"/><path d=\"M17.41 7.96l-1.37-1.37c-.4-.4-.92-.59-1.43-.59-.52 0-1.04.2-1.43.59L10.3 9.45l-7.72 7.72c-.78.78-.78 2.05 0 2.83L4 21.41c.39.39.9.59 1.41.59.51 0 1.02-.2 1.41-.59l7.78-7.78 2.81-2.81c.8-.78.8-2.07 0-2.86zM5.41 20L4 18.59l7.72-7.72 1.47 1.35L5.41 20z\"/>\n",
              "  </svg>\n",
              "      </button>\n",
              "      \n",
              "  <style>\n",
              "    .colab-df-container {\n",
              "      display:flex;\n",
              "      flex-wrap:wrap;\n",
              "      gap: 12px;\n",
              "    }\n",
              "\n",
              "    .colab-df-convert {\n",
              "      background-color: #E8F0FE;\n",
              "      border: none;\n",
              "      border-radius: 50%;\n",
              "      cursor: pointer;\n",
              "      display: none;\n",
              "      fill: #1967D2;\n",
              "      height: 32px;\n",
              "      padding: 0 0 0 0;\n",
              "      width: 32px;\n",
              "    }\n",
              "\n",
              "    .colab-df-convert:hover {\n",
              "      background-color: #E2EBFA;\n",
              "      box-shadow: 0px 1px 2px rgba(60, 64, 67, 0.3), 0px 1px 3px 1px rgba(60, 64, 67, 0.15);\n",
              "      fill: #174EA6;\n",
              "    }\n",
              "\n",
              "    [theme=dark] .colab-df-convert {\n",
              "      background-color: #3B4455;\n",
              "      fill: #D2E3FC;\n",
              "    }\n",
              "\n",
              "    [theme=dark] .colab-df-convert:hover {\n",
              "      background-color: #434B5C;\n",
              "      box-shadow: 0px 1px 3px 1px rgba(0, 0, 0, 0.15);\n",
              "      filter: drop-shadow(0px 1px 2px rgba(0, 0, 0, 0.3));\n",
              "      fill: #FFFFFF;\n",
              "    }\n",
              "  </style>\n",
              "\n",
              "      <script>\n",
              "        const buttonEl =\n",
              "          document.querySelector('#df-a742f2ff-cec8-4005-89c1-1d6eebb68e9e button.colab-df-convert');\n",
              "        buttonEl.style.display =\n",
              "          google.colab.kernel.accessAllowed ? 'block' : 'none';\n",
              "\n",
              "        async function convertToInteractive(key) {\n",
              "          const element = document.querySelector('#df-a742f2ff-cec8-4005-89c1-1d6eebb68e9e');\n",
              "          const dataTable =\n",
              "            await google.colab.kernel.invokeFunction('convertToInteractive',\n",
              "                                                     [key], {});\n",
              "          if (!dataTable) return;\n",
              "\n",
              "          const docLinkHtml = 'Like what you see? Visit the ' +\n",
              "            '<a target=\"_blank\" href=https://colab.research.google.com/notebooks/data_table.ipynb>data table notebook</a>'\n",
              "            + ' to learn more about interactive tables.';\n",
              "          element.innerHTML = '';\n",
              "          dataTable['output_type'] = 'display_data';\n",
              "          await google.colab.output.renderOutput(dataTable, element);\n",
              "          const docLink = document.createElement('div');\n",
              "          docLink.innerHTML = docLinkHtml;\n",
              "          element.appendChild(docLink);\n",
              "        }\n",
              "      </script>\n",
              "    </div>\n",
              "  </div>\n",
              "  "
            ]
          },
          "metadata": {},
          "execution_count": 6
        }
      ]
    },
    {
      "cell_type": "code",
      "source": [
        "print(df['Gender'].dtype)\n",
        "print('_'*100)\n",
        "print(df.dtypes)\n",
        "print('_'*100)\n",
        "print(df.info()) \n"
      ],
      "metadata": {
        "colab": {
          "base_uri": "https://localhost:8080/"
        },
        "id": "V1lPjB7fl-Z4",
        "outputId": "a0224c1f-dddd-4b9f-e7cd-82b5c2c201f7"
      },
      "execution_count": null,
      "outputs": [
        {
          "output_type": "stream",
          "name": "stdout",
          "text": [
            "object\n",
            "____________________________________________________________________________________________________\n",
            "Gender    object\n",
            "Age        int64\n",
            "dtype: object\n",
            "____________________________________________________________________________________________________\n",
            "<class 'pandas.core.frame.DataFrame'>\n",
            "RangeIndex: 6 entries, 0 to 5\n",
            "Data columns (total 2 columns):\n",
            " #   Column  Non-Null Count  Dtype \n",
            "---  ------  --------------  ----- \n",
            " 0   Gender  6 non-null      object\n",
            " 1   Age     6 non-null      int64 \n",
            "dtypes: int64(1), object(1)\n",
            "memory usage: 224.0+ bytes\n",
            "None\n"
          ]
        }
      ]
    },
    {
      "cell_type": "code",
      "source": [
        " \n",
        "print(df.describe()) "
      ],
      "metadata": {
        "colab": {
          "base_uri": "https://localhost:8080/"
        },
        "id": "btXeW2ltoORb",
        "outputId": "1c6109c5-7b7f-444b-e2ae-f9d55a5c26cc"
      },
      "execution_count": null,
      "outputs": [
        {
          "output_type": "stream",
          "name": "stdout",
          "text": [
            "             Age\n",
            "count   6.000000\n",
            "mean   33.666667\n",
            "std     7.339391\n",
            "min    25.000000\n",
            "25%    28.250000\n",
            "50%    33.000000\n",
            "75%    38.500000\n",
            "max    44.000000\n"
          ]
        }
      ]
    },
    {
      "cell_type": "code",
      "source": [
        "df"
      ],
      "metadata": {
        "colab": {
          "base_uri": "https://localhost:8080/",
          "height": 237
        },
        "id": "Y2RTe4s4aWpP",
        "outputId": "19cd8fe5-2031-4b91-c4b3-b87ec88868a5"
      },
      "execution_count": null,
      "outputs": [
        {
          "output_type": "execute_result",
          "data": {
            "text/plain": [
              "   Gender  Age\n",
              "0    male   25\n",
              "1  female   40\n",
              "2  female   34\n",
              "3    male   32\n",
              "4  female   27\n",
              "5  female   44"
            ],
            "text/html": [
              "\n",
              "  <div id=\"df-c4824592-46a5-4157-9af9-125edc672f3a\">\n",
              "    <div class=\"colab-df-container\">\n",
              "      <div>\n",
              "<style scoped>\n",
              "    .dataframe tbody tr th:only-of-type {\n",
              "        vertical-align: middle;\n",
              "    }\n",
              "\n",
              "    .dataframe tbody tr th {\n",
              "        vertical-align: top;\n",
              "    }\n",
              "\n",
              "    .dataframe thead th {\n",
              "        text-align: right;\n",
              "    }\n",
              "</style>\n",
              "<table border=\"1\" class=\"dataframe\">\n",
              "  <thead>\n",
              "    <tr style=\"text-align: right;\">\n",
              "      <th></th>\n",
              "      <th>Gender</th>\n",
              "      <th>Age</th>\n",
              "    </tr>\n",
              "  </thead>\n",
              "  <tbody>\n",
              "    <tr>\n",
              "      <th>0</th>\n",
              "      <td>male</td>\n",
              "      <td>25</td>\n",
              "    </tr>\n",
              "    <tr>\n",
              "      <th>1</th>\n",
              "      <td>female</td>\n",
              "      <td>40</td>\n",
              "    </tr>\n",
              "    <tr>\n",
              "      <th>2</th>\n",
              "      <td>female</td>\n",
              "      <td>34</td>\n",
              "    </tr>\n",
              "    <tr>\n",
              "      <th>3</th>\n",
              "      <td>male</td>\n",
              "      <td>32</td>\n",
              "    </tr>\n",
              "    <tr>\n",
              "      <th>4</th>\n",
              "      <td>female</td>\n",
              "      <td>27</td>\n",
              "    </tr>\n",
              "    <tr>\n",
              "      <th>5</th>\n",
              "      <td>female</td>\n",
              "      <td>44</td>\n",
              "    </tr>\n",
              "  </tbody>\n",
              "</table>\n",
              "</div>\n",
              "      <button class=\"colab-df-convert\" onclick=\"convertToInteractive('df-c4824592-46a5-4157-9af9-125edc672f3a')\"\n",
              "              title=\"Convert this dataframe to an interactive table.\"\n",
              "              style=\"display:none;\">\n",
              "        \n",
              "  <svg xmlns=\"http://www.w3.org/2000/svg\" height=\"24px\"viewBox=\"0 0 24 24\"\n",
              "       width=\"24px\">\n",
              "    <path d=\"M0 0h24v24H0V0z\" fill=\"none\"/>\n",
              "    <path d=\"M18.56 5.44l.94 2.06.94-2.06 2.06-.94-2.06-.94-.94-2.06-.94 2.06-2.06.94zm-11 1L8.5 8.5l.94-2.06 2.06-.94-2.06-.94L8.5 2.5l-.94 2.06-2.06.94zm10 10l.94 2.06.94-2.06 2.06-.94-2.06-.94-.94-2.06-.94 2.06-2.06.94z\"/><path d=\"M17.41 7.96l-1.37-1.37c-.4-.4-.92-.59-1.43-.59-.52 0-1.04.2-1.43.59L10.3 9.45l-7.72 7.72c-.78.78-.78 2.05 0 2.83L4 21.41c.39.39.9.59 1.41.59.51 0 1.02-.2 1.41-.59l7.78-7.78 2.81-2.81c.8-.78.8-2.07 0-2.86zM5.41 20L4 18.59l7.72-7.72 1.47 1.35L5.41 20z\"/>\n",
              "  </svg>\n",
              "      </button>\n",
              "      \n",
              "  <style>\n",
              "    .colab-df-container {\n",
              "      display:flex;\n",
              "      flex-wrap:wrap;\n",
              "      gap: 12px;\n",
              "    }\n",
              "\n",
              "    .colab-df-convert {\n",
              "      background-color: #E8F0FE;\n",
              "      border: none;\n",
              "      border-radius: 50%;\n",
              "      cursor: pointer;\n",
              "      display: none;\n",
              "      fill: #1967D2;\n",
              "      height: 32px;\n",
              "      padding: 0 0 0 0;\n",
              "      width: 32px;\n",
              "    }\n",
              "\n",
              "    .colab-df-convert:hover {\n",
              "      background-color: #E2EBFA;\n",
              "      box-shadow: 0px 1px 2px rgba(60, 64, 67, 0.3), 0px 1px 3px 1px rgba(60, 64, 67, 0.15);\n",
              "      fill: #174EA6;\n",
              "    }\n",
              "\n",
              "    [theme=dark] .colab-df-convert {\n",
              "      background-color: #3B4455;\n",
              "      fill: #D2E3FC;\n",
              "    }\n",
              "\n",
              "    [theme=dark] .colab-df-convert:hover {\n",
              "      background-color: #434B5C;\n",
              "      box-shadow: 0px 1px 3px 1px rgba(0, 0, 0, 0.15);\n",
              "      filter: drop-shadow(0px 1px 2px rgba(0, 0, 0, 0.3));\n",
              "      fill: #FFFFFF;\n",
              "    }\n",
              "  </style>\n",
              "\n",
              "      <script>\n",
              "        const buttonEl =\n",
              "          document.querySelector('#df-c4824592-46a5-4157-9af9-125edc672f3a button.colab-df-convert');\n",
              "        buttonEl.style.display =\n",
              "          google.colab.kernel.accessAllowed ? 'block' : 'none';\n",
              "\n",
              "        async function convertToInteractive(key) {\n",
              "          const element = document.querySelector('#df-c4824592-46a5-4157-9af9-125edc672f3a');\n",
              "          const dataTable =\n",
              "            await google.colab.kernel.invokeFunction('convertToInteractive',\n",
              "                                                     [key], {});\n",
              "          if (!dataTable) return;\n",
              "\n",
              "          const docLinkHtml = 'Like what you see? Visit the ' +\n",
              "            '<a target=\"_blank\" href=https://colab.research.google.com/notebooks/data_table.ipynb>data table notebook</a>'\n",
              "            + ' to learn more about interactive tables.';\n",
              "          element.innerHTML = '';\n",
              "          dataTable['output_type'] = 'display_data';\n",
              "          await google.colab.output.renderOutput(dataTable, element);\n",
              "          const docLink = document.createElement('div');\n",
              "          docLink.innerHTML = docLinkHtml;\n",
              "          element.appendChild(docLink);\n",
              "        }\n",
              "      </script>\n",
              "    </div>\n",
              "  </div>\n",
              "  "
            ]
          },
          "metadata": {},
          "execution_count": 9
        }
      ]
    },
    {
      "cell_type": "code",
      "source": [
        "df.where(df.Gender == \"male\").count()"
      ],
      "metadata": {
        "colab": {
          "base_uri": "https://localhost:8080/"
        },
        "id": "QCS3VYrEaNkg",
        "outputId": "c7e329f3-18fa-47a1-bf61-31117bb4171a"
      },
      "execution_count": null,
      "outputs": [
        {
          "output_type": "execute_result",
          "data": {
            "text/plain": [
              "Gender    2\n",
              "Age       2\n",
              "dtype: int64"
            ]
          },
          "metadata": {},
          "execution_count": 10
        }
      ]
    },
    {
      "cell_type": "code",
      "source": [
        "Temp_df=df.groupby(['Gender']) \n",
        "print(Temp_df.mean())"
      ],
      "metadata": {
        "colab": {
          "base_uri": "https://localhost:8080/"
        },
        "id": "XIwrLq8-oel2",
        "outputId": "35d7ba6b-f50d-4b84-8231-eeb92cfb6cb0"
      },
      "execution_count": null,
      "outputs": [
        {
          "output_type": "stream",
          "name": "stdout",
          "text": [
            "          Age\n",
            "Gender       \n",
            "female  36.25\n",
            "male    28.50\n"
          ]
        }
      ]
    },
    {
      "cell_type": "code",
      "source": [
        "df[\"Gender\"][:2]"
      ],
      "metadata": {
        "colab": {
          "base_uri": "https://localhost:8080/"
        },
        "id": "uD3Uzf-ts3ZO",
        "outputId": "9f4f5a6d-d14a-4f25-afbb-00c41fc0cfda"
      },
      "execution_count": null,
      "outputs": [
        {
          "output_type": "execute_result",
          "data": {
            "text/plain": [
              "0      male\n",
              "1    female\n",
              "Name: Gender, dtype: object"
            ]
          },
          "metadata": {},
          "execution_count": 12
        }
      ]
    },
    {
      "cell_type": "code",
      "source": [
        "adult_names = df.loc[df[\"Age\"] > 30, \"Gender\"]\n",
        "adult_names"
      ],
      "metadata": {
        "colab": {
          "base_uri": "https://localhost:8080/"
        },
        "id": "uuyRGoi0unqO",
        "outputId": "220afe7e-8adc-4f13-a4a2-6eae8c448dff"
      },
      "execution_count": null,
      "outputs": [
        {
          "output_type": "execute_result",
          "data": {
            "text/plain": [
              "1    female\n",
              "2    female\n",
              "3      male\n",
              "5    female\n",
              "Name: Gender, dtype: object"
            ]
          },
          "metadata": {},
          "execution_count": 13
        }
      ]
    },
    {
      "cell_type": "code",
      "source": [
        "df2 = df.sample(2)\n",
        "df2\n"
      ],
      "metadata": {
        "id": "G_0zkpJptXk9",
        "colab": {
          "base_uri": "https://localhost:8080/",
          "height": 112
        },
        "outputId": "7da690aa-2b34-4e7b-cadc-cd92f3b43cde"
      },
      "execution_count": null,
      "outputs": [
        {
          "output_type": "execute_result",
          "data": {
            "text/plain": [
              "   Gender  Age\n",
              "0    male   25\n",
              "4  female   27"
            ],
            "text/html": [
              "\n",
              "  <div id=\"df-4624100b-6adb-4217-8639-3b01390b5c7e\">\n",
              "    <div class=\"colab-df-container\">\n",
              "      <div>\n",
              "<style scoped>\n",
              "    .dataframe tbody tr th:only-of-type {\n",
              "        vertical-align: middle;\n",
              "    }\n",
              "\n",
              "    .dataframe tbody tr th {\n",
              "        vertical-align: top;\n",
              "    }\n",
              "\n",
              "    .dataframe thead th {\n",
              "        text-align: right;\n",
              "    }\n",
              "</style>\n",
              "<table border=\"1\" class=\"dataframe\">\n",
              "  <thead>\n",
              "    <tr style=\"text-align: right;\">\n",
              "      <th></th>\n",
              "      <th>Gender</th>\n",
              "      <th>Age</th>\n",
              "    </tr>\n",
              "  </thead>\n",
              "  <tbody>\n",
              "    <tr>\n",
              "      <th>0</th>\n",
              "      <td>male</td>\n",
              "      <td>25</td>\n",
              "    </tr>\n",
              "    <tr>\n",
              "      <th>4</th>\n",
              "      <td>female</td>\n",
              "      <td>27</td>\n",
              "    </tr>\n",
              "  </tbody>\n",
              "</table>\n",
              "</div>\n",
              "      <button class=\"colab-df-convert\" onclick=\"convertToInteractive('df-4624100b-6adb-4217-8639-3b01390b5c7e')\"\n",
              "              title=\"Convert this dataframe to an interactive table.\"\n",
              "              style=\"display:none;\">\n",
              "        \n",
              "  <svg xmlns=\"http://www.w3.org/2000/svg\" height=\"24px\"viewBox=\"0 0 24 24\"\n",
              "       width=\"24px\">\n",
              "    <path d=\"M0 0h24v24H0V0z\" fill=\"none\"/>\n",
              "    <path d=\"M18.56 5.44l.94 2.06.94-2.06 2.06-.94-2.06-.94-.94-2.06-.94 2.06-2.06.94zm-11 1L8.5 8.5l.94-2.06 2.06-.94-2.06-.94L8.5 2.5l-.94 2.06-2.06.94zm10 10l.94 2.06.94-2.06 2.06-.94-2.06-.94-.94-2.06-.94 2.06-2.06.94z\"/><path d=\"M17.41 7.96l-1.37-1.37c-.4-.4-.92-.59-1.43-.59-.52 0-1.04.2-1.43.59L10.3 9.45l-7.72 7.72c-.78.78-.78 2.05 0 2.83L4 21.41c.39.39.9.59 1.41.59.51 0 1.02-.2 1.41-.59l7.78-7.78 2.81-2.81c.8-.78.8-2.07 0-2.86zM5.41 20L4 18.59l7.72-7.72 1.47 1.35L5.41 20z\"/>\n",
              "  </svg>\n",
              "      </button>\n",
              "      \n",
              "  <style>\n",
              "    .colab-df-container {\n",
              "      display:flex;\n",
              "      flex-wrap:wrap;\n",
              "      gap: 12px;\n",
              "    }\n",
              "\n",
              "    .colab-df-convert {\n",
              "      background-color: #E8F0FE;\n",
              "      border: none;\n",
              "      border-radius: 50%;\n",
              "      cursor: pointer;\n",
              "      display: none;\n",
              "      fill: #1967D2;\n",
              "      height: 32px;\n",
              "      padding: 0 0 0 0;\n",
              "      width: 32px;\n",
              "    }\n",
              "\n",
              "    .colab-df-convert:hover {\n",
              "      background-color: #E2EBFA;\n",
              "      box-shadow: 0px 1px 2px rgba(60, 64, 67, 0.3), 0px 1px 3px 1px rgba(60, 64, 67, 0.15);\n",
              "      fill: #174EA6;\n",
              "    }\n",
              "\n",
              "    [theme=dark] .colab-df-convert {\n",
              "      background-color: #3B4455;\n",
              "      fill: #D2E3FC;\n",
              "    }\n",
              "\n",
              "    [theme=dark] .colab-df-convert:hover {\n",
              "      background-color: #434B5C;\n",
              "      box-shadow: 0px 1px 3px 1px rgba(0, 0, 0, 0.15);\n",
              "      filter: drop-shadow(0px 1px 2px rgba(0, 0, 0, 0.3));\n",
              "      fill: #FFFFFF;\n",
              "    }\n",
              "  </style>\n",
              "\n",
              "      <script>\n",
              "        const buttonEl =\n",
              "          document.querySelector('#df-4624100b-6adb-4217-8639-3b01390b5c7e button.colab-df-convert');\n",
              "        buttonEl.style.display =\n",
              "          google.colab.kernel.accessAllowed ? 'block' : 'none';\n",
              "\n",
              "        async function convertToInteractive(key) {\n",
              "          const element = document.querySelector('#df-4624100b-6adb-4217-8639-3b01390b5c7e');\n",
              "          const dataTable =\n",
              "            await google.colab.kernel.invokeFunction('convertToInteractive',\n",
              "                                                     [key], {});\n",
              "          if (!dataTable) return;\n",
              "\n",
              "          const docLinkHtml = 'Like what you see? Visit the ' +\n",
              "            '<a target=\"_blank\" href=https://colab.research.google.com/notebooks/data_table.ipynb>data table notebook</a>'\n",
              "            + ' to learn more about interactive tables.';\n",
              "          element.innerHTML = '';\n",
              "          dataTable['output_type'] = 'display_data';\n",
              "          await google.colab.output.renderOutput(dataTable, element);\n",
              "          const docLink = document.createElement('div');\n",
              "          docLink.innerHTML = docLinkHtml;\n",
              "          element.appendChild(docLink);\n",
              "        }\n",
              "      </script>\n",
              "    </div>\n",
              "  </div>\n",
              "  "
            ]
          },
          "metadata": {},
          "execution_count": 14
        }
      ]
    },
    {
      "cell_type": "code",
      "source": [
        "data=pd.read_csv('data.csv')"
      ],
      "metadata": {
        "id": "lFUK6nT2n0rd"
      },
      "execution_count": null,
      "outputs": []
    },
    {
      "cell_type": "code",
      "source": [
        "data"
      ],
      "metadata": {
        "colab": {
          "base_uri": "https://localhost:8080/",
          "height": 423
        },
        "id": "znUThm56n7kY",
        "outputId": "77ff8dd7-ec7e-4f28-83c3-58a09ddcbf6c"
      },
      "execution_count": null,
      "outputs": [
        {
          "output_type": "execute_result",
          "data": {
            "text/plain": [
              "         No.        Time             Source Destination Protocol  Length  \\\n",
              "0          1    0.000000         10.10.5.11  10.10.5.10      TCP    5108   \n",
              "1          2    0.000050         10.10.5.10  10.10.5.11      TCP      54   \n",
              "2          3    0.000240         10.10.5.10  10.10.5.11      TCP      69   \n",
              "3          4    0.186710         10.10.5.11  10.10.5.10      TCP      60   \n",
              "4          5    1.119689         10.10.5.14  10.10.5.10      TCP    4697   \n",
              "...      ...         ...                ...         ...      ...     ...   \n",
              "34465  34466  819.314740  PcsCompu_03:cb:a5   Broadcast      ARP      60   \n",
              "34466  34467  820.066244  PcsCompu_60:73:28   Broadcast      ARP      60   \n",
              "34467  34468  820.146617  PcsCompu_90:18:5a   Broadcast      ARP      60   \n",
              "34468  34469  820.224071  PcsCompu_c8:46:cd   Broadcast      ARP      60   \n",
              "34469  34470  820.296219  PcsCompu_03:cb:a5   Broadcast      ARP      60   \n",
              "\n",
              "                                                    Info  \n",
              "0      49205  >  1291 [PSH, ACK] Seq=1 Ack=1 Win=256 ...  \n",
              "1      1291  >  49205 [ACK] Seq=1 Ack=5055 Win=501 Len=0  \n",
              "2      1291  >  49205 [PSH, ACK] Seq=1 Ack=5055 Win=5...  \n",
              "3      49205  >  1291 [ACK] Seq=5055 Ack=16 Win=256 L...  \n",
              "4      49195  >  1294 [PSH, ACK] Seq=1 Ack=1 Win=256 ...  \n",
              "...                                                  ...  \n",
              "34465                 Who has 10.10.5.0? Tell 10.10.5.12  \n",
              "34466                 Who has 10.10.5.0? Tell 10.10.5.11  \n",
              "34467                 Who has 10.10.5.0? Tell 10.10.5.14  \n",
              "34468                 Who has 10.10.5.0? Tell 10.10.5.13  \n",
              "34469                 Who has 10.10.5.0? Tell 10.10.5.12  \n",
              "\n",
              "[34470 rows x 7 columns]"
            ],
            "text/html": [
              "\n",
              "  <div id=\"df-2ae77f07-7233-4de6-bf76-e8cf97cdf12b\">\n",
              "    <div class=\"colab-df-container\">\n",
              "      <div>\n",
              "<style scoped>\n",
              "    .dataframe tbody tr th:only-of-type {\n",
              "        vertical-align: middle;\n",
              "    }\n",
              "\n",
              "    .dataframe tbody tr th {\n",
              "        vertical-align: top;\n",
              "    }\n",
              "\n",
              "    .dataframe thead th {\n",
              "        text-align: right;\n",
              "    }\n",
              "</style>\n",
              "<table border=\"1\" class=\"dataframe\">\n",
              "  <thead>\n",
              "    <tr style=\"text-align: right;\">\n",
              "      <th></th>\n",
              "      <th>No.</th>\n",
              "      <th>Time</th>\n",
              "      <th>Source</th>\n",
              "      <th>Destination</th>\n",
              "      <th>Protocol</th>\n",
              "      <th>Length</th>\n",
              "      <th>Info</th>\n",
              "    </tr>\n",
              "  </thead>\n",
              "  <tbody>\n",
              "    <tr>\n",
              "      <th>0</th>\n",
              "      <td>1</td>\n",
              "      <td>0.000000</td>\n",
              "      <td>10.10.5.11</td>\n",
              "      <td>10.10.5.10</td>\n",
              "      <td>TCP</td>\n",
              "      <td>5108</td>\n",
              "      <td>49205  &gt;  1291 [PSH, ACK] Seq=1 Ack=1 Win=256 ...</td>\n",
              "    </tr>\n",
              "    <tr>\n",
              "      <th>1</th>\n",
              "      <td>2</td>\n",
              "      <td>0.000050</td>\n",
              "      <td>10.10.5.10</td>\n",
              "      <td>10.10.5.11</td>\n",
              "      <td>TCP</td>\n",
              "      <td>54</td>\n",
              "      <td>1291  &gt;  49205 [ACK] Seq=1 Ack=5055 Win=501 Len=0</td>\n",
              "    </tr>\n",
              "    <tr>\n",
              "      <th>2</th>\n",
              "      <td>3</td>\n",
              "      <td>0.000240</td>\n",
              "      <td>10.10.5.10</td>\n",
              "      <td>10.10.5.11</td>\n",
              "      <td>TCP</td>\n",
              "      <td>69</td>\n",
              "      <td>1291  &gt;  49205 [PSH, ACK] Seq=1 Ack=5055 Win=5...</td>\n",
              "    </tr>\n",
              "    <tr>\n",
              "      <th>3</th>\n",
              "      <td>4</td>\n",
              "      <td>0.186710</td>\n",
              "      <td>10.10.5.11</td>\n",
              "      <td>10.10.5.10</td>\n",
              "      <td>TCP</td>\n",
              "      <td>60</td>\n",
              "      <td>49205  &gt;  1291 [ACK] Seq=5055 Ack=16 Win=256 L...</td>\n",
              "    </tr>\n",
              "    <tr>\n",
              "      <th>4</th>\n",
              "      <td>5</td>\n",
              "      <td>1.119689</td>\n",
              "      <td>10.10.5.14</td>\n",
              "      <td>10.10.5.10</td>\n",
              "      <td>TCP</td>\n",
              "      <td>4697</td>\n",
              "      <td>49195  &gt;  1294 [PSH, ACK] Seq=1 Ack=1 Win=256 ...</td>\n",
              "    </tr>\n",
              "    <tr>\n",
              "      <th>...</th>\n",
              "      <td>...</td>\n",
              "      <td>...</td>\n",
              "      <td>...</td>\n",
              "      <td>...</td>\n",
              "      <td>...</td>\n",
              "      <td>...</td>\n",
              "      <td>...</td>\n",
              "    </tr>\n",
              "    <tr>\n",
              "      <th>34465</th>\n",
              "      <td>34466</td>\n",
              "      <td>819.314740</td>\n",
              "      <td>PcsCompu_03:cb:a5</td>\n",
              "      <td>Broadcast</td>\n",
              "      <td>ARP</td>\n",
              "      <td>60</td>\n",
              "      <td>Who has 10.10.5.0? Tell 10.10.5.12</td>\n",
              "    </tr>\n",
              "    <tr>\n",
              "      <th>34466</th>\n",
              "      <td>34467</td>\n",
              "      <td>820.066244</td>\n",
              "      <td>PcsCompu_60:73:28</td>\n",
              "      <td>Broadcast</td>\n",
              "      <td>ARP</td>\n",
              "      <td>60</td>\n",
              "      <td>Who has 10.10.5.0? Tell 10.10.5.11</td>\n",
              "    </tr>\n",
              "    <tr>\n",
              "      <th>34467</th>\n",
              "      <td>34468</td>\n",
              "      <td>820.146617</td>\n",
              "      <td>PcsCompu_90:18:5a</td>\n",
              "      <td>Broadcast</td>\n",
              "      <td>ARP</td>\n",
              "      <td>60</td>\n",
              "      <td>Who has 10.10.5.0? Tell 10.10.5.14</td>\n",
              "    </tr>\n",
              "    <tr>\n",
              "      <th>34468</th>\n",
              "      <td>34469</td>\n",
              "      <td>820.224071</td>\n",
              "      <td>PcsCompu_c8:46:cd</td>\n",
              "      <td>Broadcast</td>\n",
              "      <td>ARP</td>\n",
              "      <td>60</td>\n",
              "      <td>Who has 10.10.5.0? Tell 10.10.5.13</td>\n",
              "    </tr>\n",
              "    <tr>\n",
              "      <th>34469</th>\n",
              "      <td>34470</td>\n",
              "      <td>820.296219</td>\n",
              "      <td>PcsCompu_03:cb:a5</td>\n",
              "      <td>Broadcast</td>\n",
              "      <td>ARP</td>\n",
              "      <td>60</td>\n",
              "      <td>Who has 10.10.5.0? Tell 10.10.5.12</td>\n",
              "    </tr>\n",
              "  </tbody>\n",
              "</table>\n",
              "<p>34470 rows × 7 columns</p>\n",
              "</div>\n",
              "      <button class=\"colab-df-convert\" onclick=\"convertToInteractive('df-2ae77f07-7233-4de6-bf76-e8cf97cdf12b')\"\n",
              "              title=\"Convert this dataframe to an interactive table.\"\n",
              "              style=\"display:none;\">\n",
              "        \n",
              "  <svg xmlns=\"http://www.w3.org/2000/svg\" height=\"24px\"viewBox=\"0 0 24 24\"\n",
              "       width=\"24px\">\n",
              "    <path d=\"M0 0h24v24H0V0z\" fill=\"none\"/>\n",
              "    <path d=\"M18.56 5.44l.94 2.06.94-2.06 2.06-.94-2.06-.94-.94-2.06-.94 2.06-2.06.94zm-11 1L8.5 8.5l.94-2.06 2.06-.94-2.06-.94L8.5 2.5l-.94 2.06-2.06.94zm10 10l.94 2.06.94-2.06 2.06-.94-2.06-.94-.94-2.06-.94 2.06-2.06.94z\"/><path d=\"M17.41 7.96l-1.37-1.37c-.4-.4-.92-.59-1.43-.59-.52 0-1.04.2-1.43.59L10.3 9.45l-7.72 7.72c-.78.78-.78 2.05 0 2.83L4 21.41c.39.39.9.59 1.41.59.51 0 1.02-.2 1.41-.59l7.78-7.78 2.81-2.81c.8-.78.8-2.07 0-2.86zM5.41 20L4 18.59l7.72-7.72 1.47 1.35L5.41 20z\"/>\n",
              "  </svg>\n",
              "      </button>\n",
              "      \n",
              "  <style>\n",
              "    .colab-df-container {\n",
              "      display:flex;\n",
              "      flex-wrap:wrap;\n",
              "      gap: 12px;\n",
              "    }\n",
              "\n",
              "    .colab-df-convert {\n",
              "      background-color: #E8F0FE;\n",
              "      border: none;\n",
              "      border-radius: 50%;\n",
              "      cursor: pointer;\n",
              "      display: none;\n",
              "      fill: #1967D2;\n",
              "      height: 32px;\n",
              "      padding: 0 0 0 0;\n",
              "      width: 32px;\n",
              "    }\n",
              "\n",
              "    .colab-df-convert:hover {\n",
              "      background-color: #E2EBFA;\n",
              "      box-shadow: 0px 1px 2px rgba(60, 64, 67, 0.3), 0px 1px 3px 1px rgba(60, 64, 67, 0.15);\n",
              "      fill: #174EA6;\n",
              "    }\n",
              "\n",
              "    [theme=dark] .colab-df-convert {\n",
              "      background-color: #3B4455;\n",
              "      fill: #D2E3FC;\n",
              "    }\n",
              "\n",
              "    [theme=dark] .colab-df-convert:hover {\n",
              "      background-color: #434B5C;\n",
              "      box-shadow: 0px 1px 3px 1px rgba(0, 0, 0, 0.15);\n",
              "      filter: drop-shadow(0px 1px 2px rgba(0, 0, 0, 0.3));\n",
              "      fill: #FFFFFF;\n",
              "    }\n",
              "  </style>\n",
              "\n",
              "      <script>\n",
              "        const buttonEl =\n",
              "          document.querySelector('#df-2ae77f07-7233-4de6-bf76-e8cf97cdf12b button.colab-df-convert');\n",
              "        buttonEl.style.display =\n",
              "          google.colab.kernel.accessAllowed ? 'block' : 'none';\n",
              "\n",
              "        async function convertToInteractive(key) {\n",
              "          const element = document.querySelector('#df-2ae77f07-7233-4de6-bf76-e8cf97cdf12b');\n",
              "          const dataTable =\n",
              "            await google.colab.kernel.invokeFunction('convertToInteractive',\n",
              "                                                     [key], {});\n",
              "          if (!dataTable) return;\n",
              "\n",
              "          const docLinkHtml = 'Like what you see? Visit the ' +\n",
              "            '<a target=\"_blank\" href=https://colab.research.google.com/notebooks/data_table.ipynb>data table notebook</a>'\n",
              "            + ' to learn more about interactive tables.';\n",
              "          element.innerHTML = '';\n",
              "          dataTable['output_type'] = 'display_data';\n",
              "          await google.colab.output.renderOutput(dataTable, element);\n",
              "          const docLink = document.createElement('div');\n",
              "          docLink.innerHTML = docLinkHtml;\n",
              "          element.appendChild(docLink);\n",
              "        }\n",
              "      </script>\n",
              "    </div>\n",
              "  </div>\n",
              "  "
            ]
          },
          "metadata": {},
          "execution_count": 23
        }
      ]
    },
    {
      "cell_type": "code",
      "source": [
        "sample=data.drop_duplicates(subset=['Protocol'],keep='last') \n",
        "\n",
        "sample"
      ],
      "metadata": {
        "colab": {
          "base_uri": "https://localhost:8080/",
          "height": 595
        },
        "id": "IoVm2u_CuKIr",
        "outputId": "04fe0f4f-425d-497c-9c71-bd2487b63812"
      },
      "execution_count": null,
      "outputs": [
        {
          "output_type": "execute_result",
          "data": {
            "text/plain": [
              "         No.        Time                     Source  \\\n",
              "3840    3841  549.401487                 10.10.5.11   \n",
              "3960    3961  559.843877                 10.10.5.11   \n",
              "24060  24061  640.456108                 10.10.5.13   \n",
              "24912  24913  646.482104                 10.10.5.13   \n",
              "32225  32226  647.624784                 10.10.5.14   \n",
              "33115  33116  673.137339   fe80::6407:7b6:e2ff:9ac8   \n",
              "33390  33391  685.476288                 10.10.5.14   \n",
              "33659  33660  694.203478                 10.10.5.14   \n",
              "33679  33680  694.575536                 10.10.5.14   \n",
              "33688  33689  694.984166    fe80::c49f:7c4:c006:ed2   \n",
              "33725  33726  697.103675  fe80::3c1a:e462:6dcc:19c9   \n",
              "34049  34050  743.084640                 10.10.5.14   \n",
              "34058  34059  744.792522                 10.10.5.14   \n",
              "34417  34418  810.672677                 10.10.5.14   \n",
              "34461  34462  818.313646                 10.10.5.12   \n",
              "34469  34470  820.296219          PcsCompu_03:cb:a5   \n",
              "\n",
              "                     Destination  Protocol  Length  \\\n",
              "3840                  10.10.5.12    LANMAN     157   \n",
              "3960                  10.10.5.12      SMB2     126   \n",
              "24060                 10.10.5.14  SMB Pipe     132   \n",
              "24912                 10.10.5.14      NBSS    1312   \n",
              "32225                 10.10.5.13       SMB      93   \n",
              "33115                  ff02::1:2    DHCPv6     150   \n",
              "33390                 224.0.0.22    IGMPv3      60   \n",
              "33659                 10.10.5.13  HTTP/XML    4270   \n",
              "33679                 10.10.5.13      HTTP    4020   \n",
              "33688  fe80::3c1a:e462:6dcc:19c9    ICMPv6      86   \n",
              "33725                    ff02::c      SSDP     585   \n",
              "34049                224.0.0.252     LLMNR      64   \n",
              "34058                10.10.5.255      NBNS      92   \n",
              "34417                10.10.5.255   BROWSER     248   \n",
              "34461                 10.10.5.13       TCP      60   \n",
              "34469                  Broadcast       ARP      60   \n",
              "\n",
              "                                                    Info  \n",
              "3840                             NetServerEnum2 Response  \n",
              "3960                             Session Logoff Response  \n",
              "24060                 PeekNamedPipe Request, FID: 0x0000  \n",
              "24912                          NBSS Continuation Message  \n",
              "32225  Trans2 Response<unknown>, Error: STATUS_NOT_IM...  \n",
              "33115  Solicit XID: 0x9d631e CID: 0001000126b4b022080...  \n",
              "33390  Membership Report / Join group 239.255.255.250...  \n",
              "33659                                   HTTP/1.1 200 OK   \n",
              "33679                             HTTP/1.1 200 OK  (PNG)  \n",
              "33688  Neighbor Advertisement fe80::c49f:7c4:c006:ed2...  \n",
              "33725                                 NOTIFY * HTTP/1.1   \n",
              "34049                       Standard query 0x7f6e A wpad  \n",
              "34058                             Name query NB WPAD<00>  \n",
              "34417  Host Announcement NODE4-PC, Workstation, Serve...  \n",
              "34461  2869  >  50023 [RST, ACK] Seq=5616 Ack=191 Win...  \n",
              "34469                 Who has 10.10.5.0? Tell 10.10.5.12  "
            ],
            "text/html": [
              "\n",
              "  <div id=\"df-38ee980b-3eaf-41ba-bed2-01f540166d65\">\n",
              "    <div class=\"colab-df-container\">\n",
              "      <div>\n",
              "<style scoped>\n",
              "    .dataframe tbody tr th:only-of-type {\n",
              "        vertical-align: middle;\n",
              "    }\n",
              "\n",
              "    .dataframe tbody tr th {\n",
              "        vertical-align: top;\n",
              "    }\n",
              "\n",
              "    .dataframe thead th {\n",
              "        text-align: right;\n",
              "    }\n",
              "</style>\n",
              "<table border=\"1\" class=\"dataframe\">\n",
              "  <thead>\n",
              "    <tr style=\"text-align: right;\">\n",
              "      <th></th>\n",
              "      <th>No.</th>\n",
              "      <th>Time</th>\n",
              "      <th>Source</th>\n",
              "      <th>Destination</th>\n",
              "      <th>Protocol</th>\n",
              "      <th>Length</th>\n",
              "      <th>Info</th>\n",
              "    </tr>\n",
              "  </thead>\n",
              "  <tbody>\n",
              "    <tr>\n",
              "      <th>3840</th>\n",
              "      <td>3841</td>\n",
              "      <td>549.401487</td>\n",
              "      <td>10.10.5.11</td>\n",
              "      <td>10.10.5.12</td>\n",
              "      <td>LANMAN</td>\n",
              "      <td>157</td>\n",
              "      <td>NetServerEnum2 Response</td>\n",
              "    </tr>\n",
              "    <tr>\n",
              "      <th>3960</th>\n",
              "      <td>3961</td>\n",
              "      <td>559.843877</td>\n",
              "      <td>10.10.5.11</td>\n",
              "      <td>10.10.5.12</td>\n",
              "      <td>SMB2</td>\n",
              "      <td>126</td>\n",
              "      <td>Session Logoff Response</td>\n",
              "    </tr>\n",
              "    <tr>\n",
              "      <th>24060</th>\n",
              "      <td>24061</td>\n",
              "      <td>640.456108</td>\n",
              "      <td>10.10.5.13</td>\n",
              "      <td>10.10.5.14</td>\n",
              "      <td>SMB Pipe</td>\n",
              "      <td>132</td>\n",
              "      <td>PeekNamedPipe Request, FID: 0x0000</td>\n",
              "    </tr>\n",
              "    <tr>\n",
              "      <th>24912</th>\n",
              "      <td>24913</td>\n",
              "      <td>646.482104</td>\n",
              "      <td>10.10.5.13</td>\n",
              "      <td>10.10.5.14</td>\n",
              "      <td>NBSS</td>\n",
              "      <td>1312</td>\n",
              "      <td>NBSS Continuation Message</td>\n",
              "    </tr>\n",
              "    <tr>\n",
              "      <th>32225</th>\n",
              "      <td>32226</td>\n",
              "      <td>647.624784</td>\n",
              "      <td>10.10.5.14</td>\n",
              "      <td>10.10.5.13</td>\n",
              "      <td>SMB</td>\n",
              "      <td>93</td>\n",
              "      <td>Trans2 Response&lt;unknown&gt;, Error: STATUS_NOT_IM...</td>\n",
              "    </tr>\n",
              "    <tr>\n",
              "      <th>33115</th>\n",
              "      <td>33116</td>\n",
              "      <td>673.137339</td>\n",
              "      <td>fe80::6407:7b6:e2ff:9ac8</td>\n",
              "      <td>ff02::1:2</td>\n",
              "      <td>DHCPv6</td>\n",
              "      <td>150</td>\n",
              "      <td>Solicit XID: 0x9d631e CID: 0001000126b4b022080...</td>\n",
              "    </tr>\n",
              "    <tr>\n",
              "      <th>33390</th>\n",
              "      <td>33391</td>\n",
              "      <td>685.476288</td>\n",
              "      <td>10.10.5.14</td>\n",
              "      <td>224.0.0.22</td>\n",
              "      <td>IGMPv3</td>\n",
              "      <td>60</td>\n",
              "      <td>Membership Report / Join group 239.255.255.250...</td>\n",
              "    </tr>\n",
              "    <tr>\n",
              "      <th>33659</th>\n",
              "      <td>33660</td>\n",
              "      <td>694.203478</td>\n",
              "      <td>10.10.5.14</td>\n",
              "      <td>10.10.5.13</td>\n",
              "      <td>HTTP/XML</td>\n",
              "      <td>4270</td>\n",
              "      <td>HTTP/1.1 200 OK</td>\n",
              "    </tr>\n",
              "    <tr>\n",
              "      <th>33679</th>\n",
              "      <td>33680</td>\n",
              "      <td>694.575536</td>\n",
              "      <td>10.10.5.14</td>\n",
              "      <td>10.10.5.13</td>\n",
              "      <td>HTTP</td>\n",
              "      <td>4020</td>\n",
              "      <td>HTTP/1.1 200 OK  (PNG)</td>\n",
              "    </tr>\n",
              "    <tr>\n",
              "      <th>33688</th>\n",
              "      <td>33689</td>\n",
              "      <td>694.984166</td>\n",
              "      <td>fe80::c49f:7c4:c006:ed2</td>\n",
              "      <td>fe80::3c1a:e462:6dcc:19c9</td>\n",
              "      <td>ICMPv6</td>\n",
              "      <td>86</td>\n",
              "      <td>Neighbor Advertisement fe80::c49f:7c4:c006:ed2...</td>\n",
              "    </tr>\n",
              "    <tr>\n",
              "      <th>33725</th>\n",
              "      <td>33726</td>\n",
              "      <td>697.103675</td>\n",
              "      <td>fe80::3c1a:e462:6dcc:19c9</td>\n",
              "      <td>ff02::c</td>\n",
              "      <td>SSDP</td>\n",
              "      <td>585</td>\n",
              "      <td>NOTIFY * HTTP/1.1</td>\n",
              "    </tr>\n",
              "    <tr>\n",
              "      <th>34049</th>\n",
              "      <td>34050</td>\n",
              "      <td>743.084640</td>\n",
              "      <td>10.10.5.14</td>\n",
              "      <td>224.0.0.252</td>\n",
              "      <td>LLMNR</td>\n",
              "      <td>64</td>\n",
              "      <td>Standard query 0x7f6e A wpad</td>\n",
              "    </tr>\n",
              "    <tr>\n",
              "      <th>34058</th>\n",
              "      <td>34059</td>\n",
              "      <td>744.792522</td>\n",
              "      <td>10.10.5.14</td>\n",
              "      <td>10.10.5.255</td>\n",
              "      <td>NBNS</td>\n",
              "      <td>92</td>\n",
              "      <td>Name query NB WPAD&lt;00&gt;</td>\n",
              "    </tr>\n",
              "    <tr>\n",
              "      <th>34417</th>\n",
              "      <td>34418</td>\n",
              "      <td>810.672677</td>\n",
              "      <td>10.10.5.14</td>\n",
              "      <td>10.10.5.255</td>\n",
              "      <td>BROWSER</td>\n",
              "      <td>248</td>\n",
              "      <td>Host Announcement NODE4-PC, Workstation, Serve...</td>\n",
              "    </tr>\n",
              "    <tr>\n",
              "      <th>34461</th>\n",
              "      <td>34462</td>\n",
              "      <td>818.313646</td>\n",
              "      <td>10.10.5.12</td>\n",
              "      <td>10.10.5.13</td>\n",
              "      <td>TCP</td>\n",
              "      <td>60</td>\n",
              "      <td>2869  &gt;  50023 [RST, ACK] Seq=5616 Ack=191 Win...</td>\n",
              "    </tr>\n",
              "    <tr>\n",
              "      <th>34469</th>\n",
              "      <td>34470</td>\n",
              "      <td>820.296219</td>\n",
              "      <td>PcsCompu_03:cb:a5</td>\n",
              "      <td>Broadcast</td>\n",
              "      <td>ARP</td>\n",
              "      <td>60</td>\n",
              "      <td>Who has 10.10.5.0? Tell 10.10.5.12</td>\n",
              "    </tr>\n",
              "  </tbody>\n",
              "</table>\n",
              "</div>\n",
              "      <button class=\"colab-df-convert\" onclick=\"convertToInteractive('df-38ee980b-3eaf-41ba-bed2-01f540166d65')\"\n",
              "              title=\"Convert this dataframe to an interactive table.\"\n",
              "              style=\"display:none;\">\n",
              "        \n",
              "  <svg xmlns=\"http://www.w3.org/2000/svg\" height=\"24px\"viewBox=\"0 0 24 24\"\n",
              "       width=\"24px\">\n",
              "    <path d=\"M0 0h24v24H0V0z\" fill=\"none\"/>\n",
              "    <path d=\"M18.56 5.44l.94 2.06.94-2.06 2.06-.94-2.06-.94-.94-2.06-.94 2.06-2.06.94zm-11 1L8.5 8.5l.94-2.06 2.06-.94-2.06-.94L8.5 2.5l-.94 2.06-2.06.94zm10 10l.94 2.06.94-2.06 2.06-.94-2.06-.94-.94-2.06-.94 2.06-2.06.94z\"/><path d=\"M17.41 7.96l-1.37-1.37c-.4-.4-.92-.59-1.43-.59-.52 0-1.04.2-1.43.59L10.3 9.45l-7.72 7.72c-.78.78-.78 2.05 0 2.83L4 21.41c.39.39.9.59 1.41.59.51 0 1.02-.2 1.41-.59l7.78-7.78 2.81-2.81c.8-.78.8-2.07 0-2.86zM5.41 20L4 18.59l7.72-7.72 1.47 1.35L5.41 20z\"/>\n",
              "  </svg>\n",
              "      </button>\n",
              "      \n",
              "  <style>\n",
              "    .colab-df-container {\n",
              "      display:flex;\n",
              "      flex-wrap:wrap;\n",
              "      gap: 12px;\n",
              "    }\n",
              "\n",
              "    .colab-df-convert {\n",
              "      background-color: #E8F0FE;\n",
              "      border: none;\n",
              "      border-radius: 50%;\n",
              "      cursor: pointer;\n",
              "      display: none;\n",
              "      fill: #1967D2;\n",
              "      height: 32px;\n",
              "      padding: 0 0 0 0;\n",
              "      width: 32px;\n",
              "    }\n",
              "\n",
              "    .colab-df-convert:hover {\n",
              "      background-color: #E2EBFA;\n",
              "      box-shadow: 0px 1px 2px rgba(60, 64, 67, 0.3), 0px 1px 3px 1px rgba(60, 64, 67, 0.15);\n",
              "      fill: #174EA6;\n",
              "    }\n",
              "\n",
              "    [theme=dark] .colab-df-convert {\n",
              "      background-color: #3B4455;\n",
              "      fill: #D2E3FC;\n",
              "    }\n",
              "\n",
              "    [theme=dark] .colab-df-convert:hover {\n",
              "      background-color: #434B5C;\n",
              "      box-shadow: 0px 1px 3px 1px rgba(0, 0, 0, 0.15);\n",
              "      filter: drop-shadow(0px 1px 2px rgba(0, 0, 0, 0.3));\n",
              "      fill: #FFFFFF;\n",
              "    }\n",
              "  </style>\n",
              "\n",
              "      <script>\n",
              "        const buttonEl =\n",
              "          document.querySelector('#df-38ee980b-3eaf-41ba-bed2-01f540166d65 button.colab-df-convert');\n",
              "        buttonEl.style.display =\n",
              "          google.colab.kernel.accessAllowed ? 'block' : 'none';\n",
              "\n",
              "        async function convertToInteractive(key) {\n",
              "          const element = document.querySelector('#df-38ee980b-3eaf-41ba-bed2-01f540166d65');\n",
              "          const dataTable =\n",
              "            await google.colab.kernel.invokeFunction('convertToInteractive',\n",
              "                                                     [key], {});\n",
              "          if (!dataTable) return;\n",
              "\n",
              "          const docLinkHtml = 'Like what you see? Visit the ' +\n",
              "            '<a target=\"_blank\" href=https://colab.research.google.com/notebooks/data_table.ipynb>data table notebook</a>'\n",
              "            + ' to learn more about interactive tables.';\n",
              "          element.innerHTML = '';\n",
              "          dataTable['output_type'] = 'display_data';\n",
              "          await google.colab.output.renderOutput(dataTable, element);\n",
              "          const docLink = document.createElement('div');\n",
              "          docLink.innerHTML = docLinkHtml;\n",
              "          element.appendChild(docLink);\n",
              "        }\n",
              "      </script>\n",
              "    </div>\n",
              "  </div>\n",
              "  "
            ]
          },
          "metadata": {},
          "execution_count": 24
        }
      ]
    },
    {
      "cell_type": "code",
      "source": [
        "sample=data.drop(columns=['Protocol']) \n",
        "sample"
      ],
      "metadata": {
        "colab": {
          "base_uri": "https://localhost:8080/",
          "height": 423
        },
        "id": "KjgybjLI2lEZ",
        "outputId": "8ab16b33-c17b-419c-d0ff-6c04ea80ec09"
      },
      "execution_count": null,
      "outputs": [
        {
          "output_type": "execute_result",
          "data": {
            "text/plain": [
              "         No.        Time             Source Destination  Length  \\\n",
              "0          1    0.000000         10.10.5.11  10.10.5.10    5108   \n",
              "1          2    0.000050         10.10.5.10  10.10.5.11      54   \n",
              "2          3    0.000240         10.10.5.10  10.10.5.11      69   \n",
              "3          4    0.186710         10.10.5.11  10.10.5.10      60   \n",
              "4          5    1.119689         10.10.5.14  10.10.5.10    4697   \n",
              "...      ...         ...                ...         ...     ...   \n",
              "34465  34466  819.314740  PcsCompu_03:cb:a5   Broadcast      60   \n",
              "34466  34467  820.066244  PcsCompu_60:73:28   Broadcast      60   \n",
              "34467  34468  820.146617  PcsCompu_90:18:5a   Broadcast      60   \n",
              "34468  34469  820.224071  PcsCompu_c8:46:cd   Broadcast      60   \n",
              "34469  34470  820.296219  PcsCompu_03:cb:a5   Broadcast      60   \n",
              "\n",
              "                                                    Info  \n",
              "0      49205  >  1291 [PSH, ACK] Seq=1 Ack=1 Win=256 ...  \n",
              "1      1291  >  49205 [ACK] Seq=1 Ack=5055 Win=501 Len=0  \n",
              "2      1291  >  49205 [PSH, ACK] Seq=1 Ack=5055 Win=5...  \n",
              "3      49205  >  1291 [ACK] Seq=5055 Ack=16 Win=256 L...  \n",
              "4      49195  >  1294 [PSH, ACK] Seq=1 Ack=1 Win=256 ...  \n",
              "...                                                  ...  \n",
              "34465                 Who has 10.10.5.0? Tell 10.10.5.12  \n",
              "34466                 Who has 10.10.5.0? Tell 10.10.5.11  \n",
              "34467                 Who has 10.10.5.0? Tell 10.10.5.14  \n",
              "34468                 Who has 10.10.5.0? Tell 10.10.5.13  \n",
              "34469                 Who has 10.10.5.0? Tell 10.10.5.12  \n",
              "\n",
              "[34470 rows x 6 columns]"
            ],
            "text/html": [
              "\n",
              "  <div id=\"df-4ad0d074-9d0e-4263-9e59-65e3b59f7cc2\">\n",
              "    <div class=\"colab-df-container\">\n",
              "      <div>\n",
              "<style scoped>\n",
              "    .dataframe tbody tr th:only-of-type {\n",
              "        vertical-align: middle;\n",
              "    }\n",
              "\n",
              "    .dataframe tbody tr th {\n",
              "        vertical-align: top;\n",
              "    }\n",
              "\n",
              "    .dataframe thead th {\n",
              "        text-align: right;\n",
              "    }\n",
              "</style>\n",
              "<table border=\"1\" class=\"dataframe\">\n",
              "  <thead>\n",
              "    <tr style=\"text-align: right;\">\n",
              "      <th></th>\n",
              "      <th>No.</th>\n",
              "      <th>Time</th>\n",
              "      <th>Source</th>\n",
              "      <th>Destination</th>\n",
              "      <th>Length</th>\n",
              "      <th>Info</th>\n",
              "    </tr>\n",
              "  </thead>\n",
              "  <tbody>\n",
              "    <tr>\n",
              "      <th>0</th>\n",
              "      <td>1</td>\n",
              "      <td>0.000000</td>\n",
              "      <td>10.10.5.11</td>\n",
              "      <td>10.10.5.10</td>\n",
              "      <td>5108</td>\n",
              "      <td>49205  &gt;  1291 [PSH, ACK] Seq=1 Ack=1 Win=256 ...</td>\n",
              "    </tr>\n",
              "    <tr>\n",
              "      <th>1</th>\n",
              "      <td>2</td>\n",
              "      <td>0.000050</td>\n",
              "      <td>10.10.5.10</td>\n",
              "      <td>10.10.5.11</td>\n",
              "      <td>54</td>\n",
              "      <td>1291  &gt;  49205 [ACK] Seq=1 Ack=5055 Win=501 Len=0</td>\n",
              "    </tr>\n",
              "    <tr>\n",
              "      <th>2</th>\n",
              "      <td>3</td>\n",
              "      <td>0.000240</td>\n",
              "      <td>10.10.5.10</td>\n",
              "      <td>10.10.5.11</td>\n",
              "      <td>69</td>\n",
              "      <td>1291  &gt;  49205 [PSH, ACK] Seq=1 Ack=5055 Win=5...</td>\n",
              "    </tr>\n",
              "    <tr>\n",
              "      <th>3</th>\n",
              "      <td>4</td>\n",
              "      <td>0.186710</td>\n",
              "      <td>10.10.5.11</td>\n",
              "      <td>10.10.5.10</td>\n",
              "      <td>60</td>\n",
              "      <td>49205  &gt;  1291 [ACK] Seq=5055 Ack=16 Win=256 L...</td>\n",
              "    </tr>\n",
              "    <tr>\n",
              "      <th>4</th>\n",
              "      <td>5</td>\n",
              "      <td>1.119689</td>\n",
              "      <td>10.10.5.14</td>\n",
              "      <td>10.10.5.10</td>\n",
              "      <td>4697</td>\n",
              "      <td>49195  &gt;  1294 [PSH, ACK] Seq=1 Ack=1 Win=256 ...</td>\n",
              "    </tr>\n",
              "    <tr>\n",
              "      <th>...</th>\n",
              "      <td>...</td>\n",
              "      <td>...</td>\n",
              "      <td>...</td>\n",
              "      <td>...</td>\n",
              "      <td>...</td>\n",
              "      <td>...</td>\n",
              "    </tr>\n",
              "    <tr>\n",
              "      <th>34465</th>\n",
              "      <td>34466</td>\n",
              "      <td>819.314740</td>\n",
              "      <td>PcsCompu_03:cb:a5</td>\n",
              "      <td>Broadcast</td>\n",
              "      <td>60</td>\n",
              "      <td>Who has 10.10.5.0? Tell 10.10.5.12</td>\n",
              "    </tr>\n",
              "    <tr>\n",
              "      <th>34466</th>\n",
              "      <td>34467</td>\n",
              "      <td>820.066244</td>\n",
              "      <td>PcsCompu_60:73:28</td>\n",
              "      <td>Broadcast</td>\n",
              "      <td>60</td>\n",
              "      <td>Who has 10.10.5.0? Tell 10.10.5.11</td>\n",
              "    </tr>\n",
              "    <tr>\n",
              "      <th>34467</th>\n",
              "      <td>34468</td>\n",
              "      <td>820.146617</td>\n",
              "      <td>PcsCompu_90:18:5a</td>\n",
              "      <td>Broadcast</td>\n",
              "      <td>60</td>\n",
              "      <td>Who has 10.10.5.0? Tell 10.10.5.14</td>\n",
              "    </tr>\n",
              "    <tr>\n",
              "      <th>34468</th>\n",
              "      <td>34469</td>\n",
              "      <td>820.224071</td>\n",
              "      <td>PcsCompu_c8:46:cd</td>\n",
              "      <td>Broadcast</td>\n",
              "      <td>60</td>\n",
              "      <td>Who has 10.10.5.0? Tell 10.10.5.13</td>\n",
              "    </tr>\n",
              "    <tr>\n",
              "      <th>34469</th>\n",
              "      <td>34470</td>\n",
              "      <td>820.296219</td>\n",
              "      <td>PcsCompu_03:cb:a5</td>\n",
              "      <td>Broadcast</td>\n",
              "      <td>60</td>\n",
              "      <td>Who has 10.10.5.0? Tell 10.10.5.12</td>\n",
              "    </tr>\n",
              "  </tbody>\n",
              "</table>\n",
              "<p>34470 rows × 6 columns</p>\n",
              "</div>\n",
              "      <button class=\"colab-df-convert\" onclick=\"convertToInteractive('df-4ad0d074-9d0e-4263-9e59-65e3b59f7cc2')\"\n",
              "              title=\"Convert this dataframe to an interactive table.\"\n",
              "              style=\"display:none;\">\n",
              "        \n",
              "  <svg xmlns=\"http://www.w3.org/2000/svg\" height=\"24px\"viewBox=\"0 0 24 24\"\n",
              "       width=\"24px\">\n",
              "    <path d=\"M0 0h24v24H0V0z\" fill=\"none\"/>\n",
              "    <path d=\"M18.56 5.44l.94 2.06.94-2.06 2.06-.94-2.06-.94-.94-2.06-.94 2.06-2.06.94zm-11 1L8.5 8.5l.94-2.06 2.06-.94-2.06-.94L8.5 2.5l-.94 2.06-2.06.94zm10 10l.94 2.06.94-2.06 2.06-.94-2.06-.94-.94-2.06-.94 2.06-2.06.94z\"/><path d=\"M17.41 7.96l-1.37-1.37c-.4-.4-.92-.59-1.43-.59-.52 0-1.04.2-1.43.59L10.3 9.45l-7.72 7.72c-.78.78-.78 2.05 0 2.83L4 21.41c.39.39.9.59 1.41.59.51 0 1.02-.2 1.41-.59l7.78-7.78 2.81-2.81c.8-.78.8-2.07 0-2.86zM5.41 20L4 18.59l7.72-7.72 1.47 1.35L5.41 20z\"/>\n",
              "  </svg>\n",
              "      </button>\n",
              "      \n",
              "  <style>\n",
              "    .colab-df-container {\n",
              "      display:flex;\n",
              "      flex-wrap:wrap;\n",
              "      gap: 12px;\n",
              "    }\n",
              "\n",
              "    .colab-df-convert {\n",
              "      background-color: #E8F0FE;\n",
              "      border: none;\n",
              "      border-radius: 50%;\n",
              "      cursor: pointer;\n",
              "      display: none;\n",
              "      fill: #1967D2;\n",
              "      height: 32px;\n",
              "      padding: 0 0 0 0;\n",
              "      width: 32px;\n",
              "    }\n",
              "\n",
              "    .colab-df-convert:hover {\n",
              "      background-color: #E2EBFA;\n",
              "      box-shadow: 0px 1px 2px rgba(60, 64, 67, 0.3), 0px 1px 3px 1px rgba(60, 64, 67, 0.15);\n",
              "      fill: #174EA6;\n",
              "    }\n",
              "\n",
              "    [theme=dark] .colab-df-convert {\n",
              "      background-color: #3B4455;\n",
              "      fill: #D2E3FC;\n",
              "    }\n",
              "\n",
              "    [theme=dark] .colab-df-convert:hover {\n",
              "      background-color: #434B5C;\n",
              "      box-shadow: 0px 1px 3px 1px rgba(0, 0, 0, 0.15);\n",
              "      filter: drop-shadow(0px 1px 2px rgba(0, 0, 0, 0.3));\n",
              "      fill: #FFFFFF;\n",
              "    }\n",
              "  </style>\n",
              "\n",
              "      <script>\n",
              "        const buttonEl =\n",
              "          document.querySelector('#df-4ad0d074-9d0e-4263-9e59-65e3b59f7cc2 button.colab-df-convert');\n",
              "        buttonEl.style.display =\n",
              "          google.colab.kernel.accessAllowed ? 'block' : 'none';\n",
              "\n",
              "        async function convertToInteractive(key) {\n",
              "          const element = document.querySelector('#df-4ad0d074-9d0e-4263-9e59-65e3b59f7cc2');\n",
              "          const dataTable =\n",
              "            await google.colab.kernel.invokeFunction('convertToInteractive',\n",
              "                                                     [key], {});\n",
              "          if (!dataTable) return;\n",
              "\n",
              "          const docLinkHtml = 'Like what you see? Visit the ' +\n",
              "            '<a target=\"_blank\" href=https://colab.research.google.com/notebooks/data_table.ipynb>data table notebook</a>'\n",
              "            + ' to learn more about interactive tables.';\n",
              "          element.innerHTML = '';\n",
              "          dataTable['output_type'] = 'display_data';\n",
              "          await google.colab.output.renderOutput(dataTable, element);\n",
              "          const docLink = document.createElement('div');\n",
              "          docLink.innerHTML = docLinkHtml;\n",
              "          element.appendChild(docLink);\n",
              "        }\n",
              "      </script>\n",
              "    </div>\n",
              "  </div>\n",
              "  "
            ]
          },
          "metadata": {},
          "execution_count": 25
        }
      ]
    },
    {
      "cell_type": "code",
      "source": [
        "sample=data.rename(columns={\"Source\": \"a\", \"Destination\": \"b\"})\n",
        "sample"
      ],
      "metadata": {
        "colab": {
          "base_uri": "https://localhost:8080/",
          "height": 423
        },
        "id": "BU9f4I8g3eZD",
        "outputId": "150e3c45-4a0c-4ee9-b4f7-8bd62db50fdb"
      },
      "execution_count": null,
      "outputs": [
        {
          "output_type": "execute_result",
          "data": {
            "text/plain": [
              "         No.        Time                  a           b Protocol  Length  \\\n",
              "0          1    0.000000         10.10.5.11  10.10.5.10      TCP    5108   \n",
              "1          2    0.000050         10.10.5.10  10.10.5.11      TCP      54   \n",
              "2          3    0.000240         10.10.5.10  10.10.5.11      TCP      69   \n",
              "3          4    0.186710         10.10.5.11  10.10.5.10      TCP      60   \n",
              "4          5    1.119689         10.10.5.14  10.10.5.10      TCP    4697   \n",
              "...      ...         ...                ...         ...      ...     ...   \n",
              "34465  34466  819.314740  PcsCompu_03:cb:a5   Broadcast      ARP      60   \n",
              "34466  34467  820.066244  PcsCompu_60:73:28   Broadcast      ARP      60   \n",
              "34467  34468  820.146617  PcsCompu_90:18:5a   Broadcast      ARP      60   \n",
              "34468  34469  820.224071  PcsCompu_c8:46:cd   Broadcast      ARP      60   \n",
              "34469  34470  820.296219  PcsCompu_03:cb:a5   Broadcast      ARP      60   \n",
              "\n",
              "                                                    Info  \n",
              "0      49205  >  1291 [PSH, ACK] Seq=1 Ack=1 Win=256 ...  \n",
              "1      1291  >  49205 [ACK] Seq=1 Ack=5055 Win=501 Len=0  \n",
              "2      1291  >  49205 [PSH, ACK] Seq=1 Ack=5055 Win=5...  \n",
              "3      49205  >  1291 [ACK] Seq=5055 Ack=16 Win=256 L...  \n",
              "4      49195  >  1294 [PSH, ACK] Seq=1 Ack=1 Win=256 ...  \n",
              "...                                                  ...  \n",
              "34465                 Who has 10.10.5.0? Tell 10.10.5.12  \n",
              "34466                 Who has 10.10.5.0? Tell 10.10.5.11  \n",
              "34467                 Who has 10.10.5.0? Tell 10.10.5.14  \n",
              "34468                 Who has 10.10.5.0? Tell 10.10.5.13  \n",
              "34469                 Who has 10.10.5.0? Tell 10.10.5.12  \n",
              "\n",
              "[34470 rows x 7 columns]"
            ],
            "text/html": [
              "\n",
              "  <div id=\"df-2c866c2c-7155-4d98-850c-066d4d204b57\">\n",
              "    <div class=\"colab-df-container\">\n",
              "      <div>\n",
              "<style scoped>\n",
              "    .dataframe tbody tr th:only-of-type {\n",
              "        vertical-align: middle;\n",
              "    }\n",
              "\n",
              "    .dataframe tbody tr th {\n",
              "        vertical-align: top;\n",
              "    }\n",
              "\n",
              "    .dataframe thead th {\n",
              "        text-align: right;\n",
              "    }\n",
              "</style>\n",
              "<table border=\"1\" class=\"dataframe\">\n",
              "  <thead>\n",
              "    <tr style=\"text-align: right;\">\n",
              "      <th></th>\n",
              "      <th>No.</th>\n",
              "      <th>Time</th>\n",
              "      <th>a</th>\n",
              "      <th>b</th>\n",
              "      <th>Protocol</th>\n",
              "      <th>Length</th>\n",
              "      <th>Info</th>\n",
              "    </tr>\n",
              "  </thead>\n",
              "  <tbody>\n",
              "    <tr>\n",
              "      <th>0</th>\n",
              "      <td>1</td>\n",
              "      <td>0.000000</td>\n",
              "      <td>10.10.5.11</td>\n",
              "      <td>10.10.5.10</td>\n",
              "      <td>TCP</td>\n",
              "      <td>5108</td>\n",
              "      <td>49205  &gt;  1291 [PSH, ACK] Seq=1 Ack=1 Win=256 ...</td>\n",
              "    </tr>\n",
              "    <tr>\n",
              "      <th>1</th>\n",
              "      <td>2</td>\n",
              "      <td>0.000050</td>\n",
              "      <td>10.10.5.10</td>\n",
              "      <td>10.10.5.11</td>\n",
              "      <td>TCP</td>\n",
              "      <td>54</td>\n",
              "      <td>1291  &gt;  49205 [ACK] Seq=1 Ack=5055 Win=501 Len=0</td>\n",
              "    </tr>\n",
              "    <tr>\n",
              "      <th>2</th>\n",
              "      <td>3</td>\n",
              "      <td>0.000240</td>\n",
              "      <td>10.10.5.10</td>\n",
              "      <td>10.10.5.11</td>\n",
              "      <td>TCP</td>\n",
              "      <td>69</td>\n",
              "      <td>1291  &gt;  49205 [PSH, ACK] Seq=1 Ack=5055 Win=5...</td>\n",
              "    </tr>\n",
              "    <tr>\n",
              "      <th>3</th>\n",
              "      <td>4</td>\n",
              "      <td>0.186710</td>\n",
              "      <td>10.10.5.11</td>\n",
              "      <td>10.10.5.10</td>\n",
              "      <td>TCP</td>\n",
              "      <td>60</td>\n",
              "      <td>49205  &gt;  1291 [ACK] Seq=5055 Ack=16 Win=256 L...</td>\n",
              "    </tr>\n",
              "    <tr>\n",
              "      <th>4</th>\n",
              "      <td>5</td>\n",
              "      <td>1.119689</td>\n",
              "      <td>10.10.5.14</td>\n",
              "      <td>10.10.5.10</td>\n",
              "      <td>TCP</td>\n",
              "      <td>4697</td>\n",
              "      <td>49195  &gt;  1294 [PSH, ACK] Seq=1 Ack=1 Win=256 ...</td>\n",
              "    </tr>\n",
              "    <tr>\n",
              "      <th>...</th>\n",
              "      <td>...</td>\n",
              "      <td>...</td>\n",
              "      <td>...</td>\n",
              "      <td>...</td>\n",
              "      <td>...</td>\n",
              "      <td>...</td>\n",
              "      <td>...</td>\n",
              "    </tr>\n",
              "    <tr>\n",
              "      <th>34465</th>\n",
              "      <td>34466</td>\n",
              "      <td>819.314740</td>\n",
              "      <td>PcsCompu_03:cb:a5</td>\n",
              "      <td>Broadcast</td>\n",
              "      <td>ARP</td>\n",
              "      <td>60</td>\n",
              "      <td>Who has 10.10.5.0? Tell 10.10.5.12</td>\n",
              "    </tr>\n",
              "    <tr>\n",
              "      <th>34466</th>\n",
              "      <td>34467</td>\n",
              "      <td>820.066244</td>\n",
              "      <td>PcsCompu_60:73:28</td>\n",
              "      <td>Broadcast</td>\n",
              "      <td>ARP</td>\n",
              "      <td>60</td>\n",
              "      <td>Who has 10.10.5.0? Tell 10.10.5.11</td>\n",
              "    </tr>\n",
              "    <tr>\n",
              "      <th>34467</th>\n",
              "      <td>34468</td>\n",
              "      <td>820.146617</td>\n",
              "      <td>PcsCompu_90:18:5a</td>\n",
              "      <td>Broadcast</td>\n",
              "      <td>ARP</td>\n",
              "      <td>60</td>\n",
              "      <td>Who has 10.10.5.0? Tell 10.10.5.14</td>\n",
              "    </tr>\n",
              "    <tr>\n",
              "      <th>34468</th>\n",
              "      <td>34469</td>\n",
              "      <td>820.224071</td>\n",
              "      <td>PcsCompu_c8:46:cd</td>\n",
              "      <td>Broadcast</td>\n",
              "      <td>ARP</td>\n",
              "      <td>60</td>\n",
              "      <td>Who has 10.10.5.0? Tell 10.10.5.13</td>\n",
              "    </tr>\n",
              "    <tr>\n",
              "      <th>34469</th>\n",
              "      <td>34470</td>\n",
              "      <td>820.296219</td>\n",
              "      <td>PcsCompu_03:cb:a5</td>\n",
              "      <td>Broadcast</td>\n",
              "      <td>ARP</td>\n",
              "      <td>60</td>\n",
              "      <td>Who has 10.10.5.0? Tell 10.10.5.12</td>\n",
              "    </tr>\n",
              "  </tbody>\n",
              "</table>\n",
              "<p>34470 rows × 7 columns</p>\n",
              "</div>\n",
              "      <button class=\"colab-df-convert\" onclick=\"convertToInteractive('df-2c866c2c-7155-4d98-850c-066d4d204b57')\"\n",
              "              title=\"Convert this dataframe to an interactive table.\"\n",
              "              style=\"display:none;\">\n",
              "        \n",
              "  <svg xmlns=\"http://www.w3.org/2000/svg\" height=\"24px\"viewBox=\"0 0 24 24\"\n",
              "       width=\"24px\">\n",
              "    <path d=\"M0 0h24v24H0V0z\" fill=\"none\"/>\n",
              "    <path d=\"M18.56 5.44l.94 2.06.94-2.06 2.06-.94-2.06-.94-.94-2.06-.94 2.06-2.06.94zm-11 1L8.5 8.5l.94-2.06 2.06-.94-2.06-.94L8.5 2.5l-.94 2.06-2.06.94zm10 10l.94 2.06.94-2.06 2.06-.94-2.06-.94-.94-2.06-.94 2.06-2.06.94z\"/><path d=\"M17.41 7.96l-1.37-1.37c-.4-.4-.92-.59-1.43-.59-.52 0-1.04.2-1.43.59L10.3 9.45l-7.72 7.72c-.78.78-.78 2.05 0 2.83L4 21.41c.39.39.9.59 1.41.59.51 0 1.02-.2 1.41-.59l7.78-7.78 2.81-2.81c.8-.78.8-2.07 0-2.86zM5.41 20L4 18.59l7.72-7.72 1.47 1.35L5.41 20z\"/>\n",
              "  </svg>\n",
              "      </button>\n",
              "      \n",
              "  <style>\n",
              "    .colab-df-container {\n",
              "      display:flex;\n",
              "      flex-wrap:wrap;\n",
              "      gap: 12px;\n",
              "    }\n",
              "\n",
              "    .colab-df-convert {\n",
              "      background-color: #E8F0FE;\n",
              "      border: none;\n",
              "      border-radius: 50%;\n",
              "      cursor: pointer;\n",
              "      display: none;\n",
              "      fill: #1967D2;\n",
              "      height: 32px;\n",
              "      padding: 0 0 0 0;\n",
              "      width: 32px;\n",
              "    }\n",
              "\n",
              "    .colab-df-convert:hover {\n",
              "      background-color: #E2EBFA;\n",
              "      box-shadow: 0px 1px 2px rgba(60, 64, 67, 0.3), 0px 1px 3px 1px rgba(60, 64, 67, 0.15);\n",
              "      fill: #174EA6;\n",
              "    }\n",
              "\n",
              "    [theme=dark] .colab-df-convert {\n",
              "      background-color: #3B4455;\n",
              "      fill: #D2E3FC;\n",
              "    }\n",
              "\n",
              "    [theme=dark] .colab-df-convert:hover {\n",
              "      background-color: #434B5C;\n",
              "      box-shadow: 0px 1px 3px 1px rgba(0, 0, 0, 0.15);\n",
              "      filter: drop-shadow(0px 1px 2px rgba(0, 0, 0, 0.3));\n",
              "      fill: #FFFFFF;\n",
              "    }\n",
              "  </style>\n",
              "\n",
              "      <script>\n",
              "        const buttonEl =\n",
              "          document.querySelector('#df-2c866c2c-7155-4d98-850c-066d4d204b57 button.colab-df-convert');\n",
              "        buttonEl.style.display =\n",
              "          google.colab.kernel.accessAllowed ? 'block' : 'none';\n",
              "\n",
              "        async function convertToInteractive(key) {\n",
              "          const element = document.querySelector('#df-2c866c2c-7155-4d98-850c-066d4d204b57');\n",
              "          const dataTable =\n",
              "            await google.colab.kernel.invokeFunction('convertToInteractive',\n",
              "                                                     [key], {});\n",
              "          if (!dataTable) return;\n",
              "\n",
              "          const docLinkHtml = 'Like what you see? Visit the ' +\n",
              "            '<a target=\"_blank\" href=https://colab.research.google.com/notebooks/data_table.ipynb>data table notebook</a>'\n",
              "            + ' to learn more about interactive tables.';\n",
              "          element.innerHTML = '';\n",
              "          dataTable['output_type'] = 'display_data';\n",
              "          await google.colab.output.renderOutput(dataTable, element);\n",
              "          const docLink = document.createElement('div');\n",
              "          docLink.innerHTML = docLinkHtml;\n",
              "          element.appendChild(docLink);\n",
              "        }\n",
              "      </script>\n",
              "    </div>\n",
              "  </div>\n",
              "  "
            ]
          },
          "metadata": {},
          "execution_count": 26
        }
      ]
    },
    {
      "cell_type": "code",
      "source": [
        "sample=data.dropna()\n",
        "sample=data.dropna(how='all')\n",
        "sample=data.dropna(thresh=2)\n",
        "sample=data.dropna(subset=['Source', 'Destination'])\n",
        "sample"
      ],
      "metadata": {
        "colab": {
          "base_uri": "https://localhost:8080/",
          "height": 423
        },
        "id": "X251iBJ855oR",
        "outputId": "46307111-1b20-4d91-fd0f-1b527e3d452f"
      },
      "execution_count": null,
      "outputs": [
        {
          "output_type": "execute_result",
          "data": {
            "text/plain": [
              "         No.        Time             Source Destination Protocol  Length  \\\n",
              "0          1    0.000000         10.10.5.11  10.10.5.10      TCP    5108   \n",
              "1          2    0.000050         10.10.5.10  10.10.5.11      TCP      54   \n",
              "2          3    0.000240         10.10.5.10  10.10.5.11      TCP      69   \n",
              "3          4    0.186710         10.10.5.11  10.10.5.10      TCP      60   \n",
              "4          5    1.119689         10.10.5.14  10.10.5.10      TCP    4697   \n",
              "...      ...         ...                ...         ...      ...     ...   \n",
              "34465  34466  819.314740  PcsCompu_03:cb:a5   Broadcast      ARP      60   \n",
              "34466  34467  820.066244  PcsCompu_60:73:28   Broadcast      ARP      60   \n",
              "34467  34468  820.146617  PcsCompu_90:18:5a   Broadcast      ARP      60   \n",
              "34468  34469  820.224071  PcsCompu_c8:46:cd   Broadcast      ARP      60   \n",
              "34469  34470  820.296219  PcsCompu_03:cb:a5   Broadcast      ARP      60   \n",
              "\n",
              "                                                    Info  \n",
              "0      49205  >  1291 [PSH, ACK] Seq=1 Ack=1 Win=256 ...  \n",
              "1      1291  >  49205 [ACK] Seq=1 Ack=5055 Win=501 Len=0  \n",
              "2      1291  >  49205 [PSH, ACK] Seq=1 Ack=5055 Win=5...  \n",
              "3      49205  >  1291 [ACK] Seq=5055 Ack=16 Win=256 L...  \n",
              "4      49195  >  1294 [PSH, ACK] Seq=1 Ack=1 Win=256 ...  \n",
              "...                                                  ...  \n",
              "34465                 Who has 10.10.5.0? Tell 10.10.5.12  \n",
              "34466                 Who has 10.10.5.0? Tell 10.10.5.11  \n",
              "34467                 Who has 10.10.5.0? Tell 10.10.5.14  \n",
              "34468                 Who has 10.10.5.0? Tell 10.10.5.13  \n",
              "34469                 Who has 10.10.5.0? Tell 10.10.5.12  \n",
              "\n",
              "[34470 rows x 7 columns]"
            ],
            "text/html": [
              "\n",
              "  <div id=\"df-fb0e1d5b-6694-4c3a-afb5-93a9e9fe29d3\">\n",
              "    <div class=\"colab-df-container\">\n",
              "      <div>\n",
              "<style scoped>\n",
              "    .dataframe tbody tr th:only-of-type {\n",
              "        vertical-align: middle;\n",
              "    }\n",
              "\n",
              "    .dataframe tbody tr th {\n",
              "        vertical-align: top;\n",
              "    }\n",
              "\n",
              "    .dataframe thead th {\n",
              "        text-align: right;\n",
              "    }\n",
              "</style>\n",
              "<table border=\"1\" class=\"dataframe\">\n",
              "  <thead>\n",
              "    <tr style=\"text-align: right;\">\n",
              "      <th></th>\n",
              "      <th>No.</th>\n",
              "      <th>Time</th>\n",
              "      <th>Source</th>\n",
              "      <th>Destination</th>\n",
              "      <th>Protocol</th>\n",
              "      <th>Length</th>\n",
              "      <th>Info</th>\n",
              "    </tr>\n",
              "  </thead>\n",
              "  <tbody>\n",
              "    <tr>\n",
              "      <th>0</th>\n",
              "      <td>1</td>\n",
              "      <td>0.000000</td>\n",
              "      <td>10.10.5.11</td>\n",
              "      <td>10.10.5.10</td>\n",
              "      <td>TCP</td>\n",
              "      <td>5108</td>\n",
              "      <td>49205  &gt;  1291 [PSH, ACK] Seq=1 Ack=1 Win=256 ...</td>\n",
              "    </tr>\n",
              "    <tr>\n",
              "      <th>1</th>\n",
              "      <td>2</td>\n",
              "      <td>0.000050</td>\n",
              "      <td>10.10.5.10</td>\n",
              "      <td>10.10.5.11</td>\n",
              "      <td>TCP</td>\n",
              "      <td>54</td>\n",
              "      <td>1291  &gt;  49205 [ACK] Seq=1 Ack=5055 Win=501 Len=0</td>\n",
              "    </tr>\n",
              "    <tr>\n",
              "      <th>2</th>\n",
              "      <td>3</td>\n",
              "      <td>0.000240</td>\n",
              "      <td>10.10.5.10</td>\n",
              "      <td>10.10.5.11</td>\n",
              "      <td>TCP</td>\n",
              "      <td>69</td>\n",
              "      <td>1291  &gt;  49205 [PSH, ACK] Seq=1 Ack=5055 Win=5...</td>\n",
              "    </tr>\n",
              "    <tr>\n",
              "      <th>3</th>\n",
              "      <td>4</td>\n",
              "      <td>0.186710</td>\n",
              "      <td>10.10.5.11</td>\n",
              "      <td>10.10.5.10</td>\n",
              "      <td>TCP</td>\n",
              "      <td>60</td>\n",
              "      <td>49205  &gt;  1291 [ACK] Seq=5055 Ack=16 Win=256 L...</td>\n",
              "    </tr>\n",
              "    <tr>\n",
              "      <th>4</th>\n",
              "      <td>5</td>\n",
              "      <td>1.119689</td>\n",
              "      <td>10.10.5.14</td>\n",
              "      <td>10.10.5.10</td>\n",
              "      <td>TCP</td>\n",
              "      <td>4697</td>\n",
              "      <td>49195  &gt;  1294 [PSH, ACK] Seq=1 Ack=1 Win=256 ...</td>\n",
              "    </tr>\n",
              "    <tr>\n",
              "      <th>...</th>\n",
              "      <td>...</td>\n",
              "      <td>...</td>\n",
              "      <td>...</td>\n",
              "      <td>...</td>\n",
              "      <td>...</td>\n",
              "      <td>...</td>\n",
              "      <td>...</td>\n",
              "    </tr>\n",
              "    <tr>\n",
              "      <th>34465</th>\n",
              "      <td>34466</td>\n",
              "      <td>819.314740</td>\n",
              "      <td>PcsCompu_03:cb:a5</td>\n",
              "      <td>Broadcast</td>\n",
              "      <td>ARP</td>\n",
              "      <td>60</td>\n",
              "      <td>Who has 10.10.5.0? Tell 10.10.5.12</td>\n",
              "    </tr>\n",
              "    <tr>\n",
              "      <th>34466</th>\n",
              "      <td>34467</td>\n",
              "      <td>820.066244</td>\n",
              "      <td>PcsCompu_60:73:28</td>\n",
              "      <td>Broadcast</td>\n",
              "      <td>ARP</td>\n",
              "      <td>60</td>\n",
              "      <td>Who has 10.10.5.0? Tell 10.10.5.11</td>\n",
              "    </tr>\n",
              "    <tr>\n",
              "      <th>34467</th>\n",
              "      <td>34468</td>\n",
              "      <td>820.146617</td>\n",
              "      <td>PcsCompu_90:18:5a</td>\n",
              "      <td>Broadcast</td>\n",
              "      <td>ARP</td>\n",
              "      <td>60</td>\n",
              "      <td>Who has 10.10.5.0? Tell 10.10.5.14</td>\n",
              "    </tr>\n",
              "    <tr>\n",
              "      <th>34468</th>\n",
              "      <td>34469</td>\n",
              "      <td>820.224071</td>\n",
              "      <td>PcsCompu_c8:46:cd</td>\n",
              "      <td>Broadcast</td>\n",
              "      <td>ARP</td>\n",
              "      <td>60</td>\n",
              "      <td>Who has 10.10.5.0? Tell 10.10.5.13</td>\n",
              "    </tr>\n",
              "    <tr>\n",
              "      <th>34469</th>\n",
              "      <td>34470</td>\n",
              "      <td>820.296219</td>\n",
              "      <td>PcsCompu_03:cb:a5</td>\n",
              "      <td>Broadcast</td>\n",
              "      <td>ARP</td>\n",
              "      <td>60</td>\n",
              "      <td>Who has 10.10.5.0? Tell 10.10.5.12</td>\n",
              "    </tr>\n",
              "  </tbody>\n",
              "</table>\n",
              "<p>34470 rows × 7 columns</p>\n",
              "</div>\n",
              "      <button class=\"colab-df-convert\" onclick=\"convertToInteractive('df-fb0e1d5b-6694-4c3a-afb5-93a9e9fe29d3')\"\n",
              "              title=\"Convert this dataframe to an interactive table.\"\n",
              "              style=\"display:none;\">\n",
              "        \n",
              "  <svg xmlns=\"http://www.w3.org/2000/svg\" height=\"24px\"viewBox=\"0 0 24 24\"\n",
              "       width=\"24px\">\n",
              "    <path d=\"M0 0h24v24H0V0z\" fill=\"none\"/>\n",
              "    <path d=\"M18.56 5.44l.94 2.06.94-2.06 2.06-.94-2.06-.94-.94-2.06-.94 2.06-2.06.94zm-11 1L8.5 8.5l.94-2.06 2.06-.94-2.06-.94L8.5 2.5l-.94 2.06-2.06.94zm10 10l.94 2.06.94-2.06 2.06-.94-2.06-.94-.94-2.06-.94 2.06-2.06.94z\"/><path d=\"M17.41 7.96l-1.37-1.37c-.4-.4-.92-.59-1.43-.59-.52 0-1.04.2-1.43.59L10.3 9.45l-7.72 7.72c-.78.78-.78 2.05 0 2.83L4 21.41c.39.39.9.59 1.41.59.51 0 1.02-.2 1.41-.59l7.78-7.78 2.81-2.81c.8-.78.8-2.07 0-2.86zM5.41 20L4 18.59l7.72-7.72 1.47 1.35L5.41 20z\"/>\n",
              "  </svg>\n",
              "      </button>\n",
              "      \n",
              "  <style>\n",
              "    .colab-df-container {\n",
              "      display:flex;\n",
              "      flex-wrap:wrap;\n",
              "      gap: 12px;\n",
              "    }\n",
              "\n",
              "    .colab-df-convert {\n",
              "      background-color: #E8F0FE;\n",
              "      border: none;\n",
              "      border-radius: 50%;\n",
              "      cursor: pointer;\n",
              "      display: none;\n",
              "      fill: #1967D2;\n",
              "      height: 32px;\n",
              "      padding: 0 0 0 0;\n",
              "      width: 32px;\n",
              "    }\n",
              "\n",
              "    .colab-df-convert:hover {\n",
              "      background-color: #E2EBFA;\n",
              "      box-shadow: 0px 1px 2px rgba(60, 64, 67, 0.3), 0px 1px 3px 1px rgba(60, 64, 67, 0.15);\n",
              "      fill: #174EA6;\n",
              "    }\n",
              "\n",
              "    [theme=dark] .colab-df-convert {\n",
              "      background-color: #3B4455;\n",
              "      fill: #D2E3FC;\n",
              "    }\n",
              "\n",
              "    [theme=dark] .colab-df-convert:hover {\n",
              "      background-color: #434B5C;\n",
              "      box-shadow: 0px 1px 3px 1px rgba(0, 0, 0, 0.15);\n",
              "      filter: drop-shadow(0px 1px 2px rgba(0, 0, 0, 0.3));\n",
              "      fill: #FFFFFF;\n",
              "    }\n",
              "  </style>\n",
              "\n",
              "      <script>\n",
              "        const buttonEl =\n",
              "          document.querySelector('#df-fb0e1d5b-6694-4c3a-afb5-93a9e9fe29d3 button.colab-df-convert');\n",
              "        buttonEl.style.display =\n",
              "          google.colab.kernel.accessAllowed ? 'block' : 'none';\n",
              "\n",
              "        async function convertToInteractive(key) {\n",
              "          const element = document.querySelector('#df-fb0e1d5b-6694-4c3a-afb5-93a9e9fe29d3');\n",
              "          const dataTable =\n",
              "            await google.colab.kernel.invokeFunction('convertToInteractive',\n",
              "                                                     [key], {});\n",
              "          if (!dataTable) return;\n",
              "\n",
              "          const docLinkHtml = 'Like what you see? Visit the ' +\n",
              "            '<a target=\"_blank\" href=https://colab.research.google.com/notebooks/data_table.ipynb>data table notebook</a>'\n",
              "            + ' to learn more about interactive tables.';\n",
              "          element.innerHTML = '';\n",
              "          dataTable['output_type'] = 'display_data';\n",
              "          await google.colab.output.renderOutput(dataTable, element);\n",
              "          const docLink = document.createElement('div');\n",
              "          docLink.innerHTML = docLinkHtml;\n",
              "          element.appendChild(docLink);\n",
              "        }\n",
              "      </script>\n",
              "    </div>\n",
              "  </div>\n",
              "  "
            ]
          },
          "metadata": {},
          "execution_count": 27
        }
      ]
    },
    {
      "cell_type": "code",
      "source": [
        "import matplotlib.pyplot as plt\n",
        "import numpy as np \n",
        "hours = [17, 20, 22, 25, 26, 27, 30, 31, 32, 38, 40, 40, 45, 55]\n",
        "\n",
        "fig, ax = plt.subplots(figsize = (9, 9))\n",
        "\n",
        "# Make histogram\n",
        "ax.hist(hours)"
      ],
      "metadata": {
        "colab": {
          "base_uri": "https://localhost:8080/",
          "height": 589
        },
        "id": "J5hYf970773W",
        "outputId": "4b2f6219-0f72-4345-bd7c-8b63fa4a4def"
      },
      "execution_count": null,
      "outputs": [
        {
          "output_type": "execute_result",
          "data": {
            "text/plain": [
              "(array([2., 1., 3., 3., 0., 1., 2., 1., 0., 1.]),\n",
              " array([17. , 20.8, 24.6, 28.4, 32.2, 36. , 39.8, 43.6, 47.4, 51.2, 55. ]),\n",
              " <a list of 10 Patch objects>)"
            ]
          },
          "metadata": {},
          "execution_count": 9
        },
        {
          "output_type": "display_data",
          "data": {
            "text/plain": [
              "<Figure size 648x648 with 1 Axes>"
            ],
            "image/png": "[encoded data removed]"
          },
          "metadata": {
            "needs_background": "light"
          }
        }
      ]
    },
    {
      "cell_type": "code",
      "source": [
        "import numpy as np\n",
        "import matplotlib.pyplot as plt\n",
        "X = np.linspace(0, 4*np.pi, 1000)\n",
        "Y = np.sin(X)\n",
        "fig, ax = plt.subplots()\n",
        "ax.plot(X, Y)\n",
        "fig.show()"
      ],
      "metadata": {
        "colab": {
          "base_uri": "https://localhost:8080/",
          "height": 265
        },
        "id": "8xp9WxoZI82C",
        "outputId": "ad331f5c-8ab8-438c-dde1-3011b5fdc30b"
      },
      "execution_count": null,
      "outputs": [
        {
          "output_type": "display_data",
          "data": {
            "text/plain": [
              "<Figure size 432x288 with 1 Axes>"
            ],
            "image/png": "[encoded data removed]"
          },
          "metadata": {
            "needs_background": "light"
          }
        }
      ]
    },
    {
      "cell_type": "code",
      "source": [
        "\n",
        "import matplotlib.pyplot as plt\n",
        "X = np.random.uniform(0, 1, 100)\n",
        "Y = np.random.uniform(0, 1, 100)\n",
        " \n",
        "plt.scatter(X, Y) "
      ],
      "metadata": {
        "colab": {
          "base_uri": "https://localhost:8080/",
          "height": 282
        },
        "id": "bFUhPa2qK1D1",
        "outputId": "90dc2003-5a07-4fb5-ce34-c1e209135254"
      },
      "execution_count": null,
      "outputs": [
        {
          "output_type": "execute_result",
          "data": {
            "text/plain": [
              "<matplotlib.collections.PathCollection at 0x7fe4f3666e80>"
            ]
          },
          "metadata": {},
          "execution_count": 7
        },
        {
          "output_type": "display_data",
          "data": {
            "text/plain": [
              "<Figure size 432x288 with 1 Axes>"
            ],
            "image/png": "[encoded data removed]"
          },
          "metadata": {
            "needs_background": "light"
          }
        }
      ]
    },
    {
      "cell_type": "code",
      "source": [
        "X = np.arange(10)\n",
        "Y = np.random.uniform(1, 10, 10)\n",
        "plt.bar(X, Y)"
      ],
      "metadata": {
        "colab": {
          "base_uri": "https://localhost:8080/",
          "height": 282
        },
        "id": "JHCPw1_cSP9k",
        "outputId": "271f8eb6-05be-405e-bcc5-2dd180cca2f9"
      },
      "execution_count": null,
      "outputs": [
        {
          "output_type": "execute_result",
          "data": {
            "text/plain": [
              "<BarContainer object of 10 artists>"
            ]
          },
          "metadata": {},
          "execution_count": 38
        },
        {
          "output_type": "display_data",
          "data": {
            "text/plain": [
              "<Figure size 432x288 with 1 Axes>"
            ],
            "image/png": "[encoded data removed]"
          },
          "metadata": {
            "needs_background": "light"
          }
        }
      ]
    },
    {
      "cell_type": "code",
      "source": [
        "Z = np.random.uniform(0, 1, (8,8))\n",
        "plt.imshow(Z)"
      ],
      "metadata": {
        "colab": {
          "base_uri": "https://localhost:8080/",
          "height": 282
        },
        "id": "IbiiZ8FwSWkz",
        "outputId": "818a0c50-866c-4f94-bf70-bd4c5bed7101"
      },
      "execution_count": null,
      "outputs": [
        {
          "output_type": "execute_result",
          "data": {
            "text/plain": [
              "<matplotlib.image.AxesImage at 0x7fef57bbfd00>"
            ]
          },
          "metadata": {},
          "execution_count": 10
        },
        {
          "output_type": "display_data",
          "data": {
            "text/plain": [
              "<Figure size 432x288 with 1 Axes>"
            ],
            "image/png": "[encoded data removed]"
          },
          "metadata": {
            "needs_background": "light"
          }
        }
      ]
    },
    {
      "cell_type": "code",
      "source": [
        "Z"
      ],
      "metadata": {
        "colab": {
          "base_uri": "https://localhost:8080/"
        },
        "id": "sXWgMhvq6Hh9",
        "outputId": "c84844e7-7314-4bb9-cefd-69bc8f4a2a65"
      },
      "execution_count": null,
      "outputs": [
        {
          "output_type": "execute_result",
          "data": {
            "text/plain": [
              "array([[0.57856653, 0.73122656, 0.80473087, 0.34973861, 0.18167564,\n",
              "        0.57743575, 0.44093905, 0.29398465],\n",
              "       [0.98284203, 0.11612621, 0.36076704, 0.26958119, 0.32709646,\n",
              "        0.702972  , 0.82052768, 0.57333781],\n",
              "       [0.98574972, 0.87736471, 0.04083635, 0.12246738, 0.83876357,\n",
              "        0.79177926, 0.13168663, 0.93805641],\n",
              "       [0.58861236, 0.17126072, 0.14979342, 0.92283308, 0.52751917,\n",
              "        0.32598156, 0.42015968, 0.27688381],\n",
              "       [0.0206138 , 0.60734513, 0.82252581, 0.35108386, 0.08955633,\n",
              "        0.07219244, 0.41141339, 0.78386613],\n",
              "       [0.48676452, 0.90636601, 0.2947873 , 0.19667834, 0.47360291,\n",
              "        0.64763926, 0.03226266, 0.43661168],\n",
              "       [0.70195471, 0.11789058, 0.92541447, 0.73891073, 0.54531956,\n",
              "        0.73749603, 0.51366236, 0.09144203],\n",
              "       [0.37957707, 0.75444665, 0.74098502, 0.12394957, 0.52909819,\n",
              "        0.07323295, 0.93941598, 0.14276047]])"
            ]
          },
          "metadata": {},
          "execution_count": 11
        }
      ]
    },
    {
      "cell_type": "code",
      "source": [
        "Z = np.random.uniform(0, 1, 4)\n",
        "plt.pie(Z)"
      ],
      "metadata": {
        "colab": {
          "base_uri": "https://localhost:8080/",
          "height": 387
        },
        "id": "CqoL4cTxSYoC",
        "outputId": "8b6151d3-c834-4174-90dd-9545a54584cd"
      },
      "execution_count": null,
      "outputs": [
        {
          "output_type": "execute_result",
          "data": {
            "text/plain": [
              "([<matplotlib.patches.Wedge at 0x7f264e3cfeb0>,\n",
              "  <matplotlib.patches.Wedge at 0x7f264e46bd00>,\n",
              "  <matplotlib.patches.Wedge at 0x7f264e46b4f0>,\n",
              "  <matplotlib.patches.Wedge at 0x7f264e46b8b0>],\n",
              " [Text(-0.14712494935550968, 1.090116621869944, ''),\n",
              "  Text(-0.5495394997017049, -0.9528936657715803, ''),\n",
              "  Text(0.8253757856340119, -0.7271552877405469, ''),\n",
              "  Text(1.0976806417238938, -0.07139473919428946, '')])"
            ]
          },
          "metadata": {},
          "execution_count": 52
        },
        {
          "output_type": "display_data",
          "data": {
            "text/plain": [
              "<Figure size 432x288 with 1 Axes>"
            ],
            "image/png": "[encoded data removed]"
          },
          "metadata": {}
        }
      ]
    },
    {
      "cell_type": "code",
      "source": [
        "X = np.linspace(0, 10, 100)\n",
        "Y = np.sin(X)\n",
        "plt.ylabel(\"Value\")\n",
        "plt.xlabel(\"Time\")\n",
        "plt.plot(X, Y, linestyle=\"--\", linewidth=5)"
      ],
      "metadata": {
        "colab": {
          "base_uri": "https://localhost:8080/",
          "height": 296
        },
        "id": "HaKz1tSaUziZ",
        "outputId": "414be97d-ca7c-4b24-aee4-8e923b877ca2"
      },
      "execution_count": null,
      "outputs": [
        {
          "output_type": "execute_result",
          "data": {
            "text/plain": [
              "[<matplotlib.lines.Line2D at 0x7f264d5a6c10>]"
            ]
          },
          "metadata": {},
          "execution_count": 62
        },
        {
          "output_type": "display_data",
          "data": {
            "text/plain": [
              "<Figure size 432x288 with 1 Axes>"
            ],
            "image/png": "[encoded data removed]"
          },
          "metadata": {
            "needs_background": "light"
          }
        }
      ]
    },
    {
      "cell_type": "code",
      "source": [
        "rng = np.random.RandomState(0)\n",
        "for marker in ['o', '.', ',', 'x', '+', 'v', '^', '<', '>', 's', 'd']:\n",
        "    plt.plot(rng.rand(5), rng.rand(5), marker,\n",
        "             label=\"marker='{0}'\".format(marker))\n",
        "plt.legend(numpoints=1)\n",
        "plt.xlim(0, 1.8);"
      ],
      "metadata": {
        "colab": {
          "base_uri": "https://localhost:8080/",
          "height": 267
        },
        "id": "8ihs3U5jB21W",
        "outputId": "dcdcb1d5-1bf2-4e12-9c35-b6b1becc4306"
      },
      "execution_count": null,
      "outputs": [
        {
          "output_type": "display_data",
          "data": {
            "text/plain": [
              "<Figure size 432x288 with 1 Axes>"
            ],
            "image/png": "[encoded data removed]"
          },
          "metadata": {
            "needs_background": "light"
          }
        }
      ]
    },
    {
      "cell_type": "code",
      "source": [
        "rng = np.random.RandomState(0)\n",
        "x = rng.randn(100)\n",
        "y = rng.randn(100)\n",
        "colors = rng.rand(100)\n",
        "sizes = 1000 * rng.rand(100)\n",
        "\n",
        "plt.scatter(x, y, c=colors, s=sizes, alpha=0.3,\n",
        "            cmap='viridis')\n",
        "plt.colorbar();  # show color scale"
      ],
      "metadata": {
        "colab": {
          "base_uri": "https://localhost:8080/",
          "height": 265
        },
        "id": "6Te5tO-eB777",
        "outputId": "7c3e61ae-6f5e-490d-b551-b511971b4108"
      },
      "execution_count": null,
      "outputs": [
        {
          "output_type": "display_data",
          "data": {
            "text/plain": [
              "<Figure size 432x288 with 2 Axes>"
            ],
            "image/png": "[encoded data removed]"
          },
          "metadata": {
            "needs_background": "light"
          }
        }
      ]
    },
    {
      "cell_type": "code",
      "source": [
        "import numpy as np\n",
        "import matplotlib.pyplot as plt\n",
        "\n",
        "# Compute the x and y coordinates for points on sine and cosine curves\n",
        "x = np.arange(0, 3 * np.pi, 0.1)\n",
        "y_sin = np.sin(x)\n",
        "y_cos = np.cos(x)\n",
        "\n",
        "# Plot the points using matplotlib\n",
        "plt.plot(x, y_sin)\n",
        "plt.plot(x, y_cos)\n",
        "plt.xlabel('x axis label')\n",
        "plt.ylabel('y axis label')\n",
        "plt.title('Sine and Cosine')\n",
        "plt.legend(['Sine', 'Cosine'])\n",
        "plt.show()"
      ],
      "metadata": {
        "colab": {
          "base_uri": "https://localhost:8080/",
          "height": 295
        },
        "id": "MoM3RNqbC0MG",
        "outputId": "cbcdc1b9-0e4b-4506-ba67-0af0196b223a"
      },
      "execution_count": null,
      "outputs": [
        {
          "output_type": "display_data",
          "data": {
            "text/plain": [
              "<Figure size 432x288 with 1 Axes>"
            ],
            "image/png": "[encoded data removed]"
          },
          "metadata": {
            "needs_background": "light"
          }
        }
      ]
    },
    {
      "cell_type": "code",
      "source": [
        "fig = plt.figure()\n",
        "fig.subplots_adjust(hspace=0.4, wspace=0.2)\n",
        "for i in range(1, 7):\n",
        "    ax = fig.add_subplot(2, 3, i)\n",
        "    ax.plot(x, y_sin)\n",
        "    ax.plot(x, y_cos)\n",
        "    # ax.text(0.5, 0.5, str((2, 3, i)),\n",
        "          #  fontsize=18, ha='center')"
      ],
      "metadata": {
        "colab": {
          "base_uri": "https://localhost:8080/",
          "height": 265
        },
        "id": "vF04JdozDRVF",
        "outputId": "0b99fe01-0452-433f-98bc-b1d7336b4256"
      },
      "execution_count": null,
      "outputs": [
        {
          "output_type": "display_data",
          "data": {
            "text/plain": [
              "<Figure size 432x288 with 6 Axes>"
            ],
            "image/png": "[encoded data removed]"
          },
          "metadata": {
            "needs_background": "light"
          }
        }
      ]
    },
    {
      "cell_type": "markdown",
      "source": [
        "### Weekly Tasks:\n",
        "---\n",
        "\n",
        "\n",
        "* **Task 1:** Create a line chart with \"Minutes\" on the X-axis and \"Total Number of Packets\" sent on the Y-axis.\n",
        "* **Task 2:** Create a line chart with \"Minutes\" on the X-axis and \"Total Packet Length\" sent on the Y-axis.. \n",
        "* **Task 3:** Display a Bar Chart that shows \"Protocol\" on the x-axis, and \"Count\" on the y-axis. "
      ],
      "metadata": {
        "id": "g0XIvSQMWDR7"
      }
    },
    {
      "cell_type": "code",
      "source": [
        "import pandas as pd\n",
        "import matplotlib.pyplot as plt\n",
        "data = pd.read_csv('data.csv')\n",
        "data\n"
      ],
      "metadata": {
        "colab": {
          "base_uri": "https://localhost:8080/",
          "height": 423
        },
        "id": "bpBxTVa-VD8o",
        "outputId": "6eaf1791-f338-49db-838a-e0526eaa5453"
      },
      "execution_count": null,
      "outputs": [
        {
          "output_type": "execute_result",
          "data": {
            "text/plain": [
              "         No.        Time             Source Destination Protocol  Length  \\\n",
              "0          1    0.000000         10.10.5.11  10.10.5.10      TCP    5108   \n",
              "1          2    0.000050         10.10.5.10  10.10.5.11      TCP      54   \n",
              "2          3    0.000240         10.10.5.10  10.10.5.11      TCP      69   \n",
              "3          4    0.186710         10.10.5.11  10.10.5.10      TCP      60   \n",
              "4          5    1.119689         10.10.5.14  10.10.5.10      TCP    4697   \n",
              "...      ...         ...                ...         ...      ...     ...   \n",
              "34465  34466  819.314740  PcsCompu_03:cb:a5   Broadcast      ARP      60   \n",
              "34466  34467  820.066244  PcsCompu_60:73:28   Broadcast      ARP      60   \n",
              "34467  34468  820.146617  PcsCompu_90:18:5a   Broadcast      ARP      60   \n",
              "34468  34469  820.224071  PcsCompu_c8:46:cd   Broadcast      ARP      60   \n",
              "34469  34470  820.296219  PcsCompu_03:cb:a5   Broadcast      ARP      60   \n",
              "\n",
              "                                                    Info  \n",
              "0      49205  >  1291 [PSH, ACK] Seq=1 Ack=1 Win=256 ...  \n",
              "1      1291  >  49205 [ACK] Seq=1 Ack=5055 Win=501 Len=0  \n",
              "2      1291  >  49205 [PSH, ACK] Seq=1 Ack=5055 Win=5...  \n",
              "3      49205  >  1291 [ACK] Seq=5055 Ack=16 Win=256 L...  \n",
              "4      49195  >  1294 [PSH, ACK] Seq=1 Ack=1 Win=256 ...  \n",
              "...                                                  ...  \n",
              "34465                 Who has 10.10.5.0? Tell 10.10.5.12  \n",
              "34466                 Who has 10.10.5.0? Tell 10.10.5.11  \n",
              "34467                 Who has 10.10.5.0? Tell 10.10.5.14  \n",
              "34468                 Who has 10.10.5.0? Tell 10.10.5.13  \n",
              "34469                 Who has 10.10.5.0? Tell 10.10.5.12  \n",
              "\n",
              "[34470 rows x 7 columns]"
            ],
            "text/html": [
              "\n",
              "  <div id=\"df-9c7117ab-5851-4c01-82ed-2b18d9b23b8b\">\n",
              "    <div class=\"colab-df-container\">\n",
              "      <div>\n",
              "<style scoped>\n",
              "    .dataframe tbody tr th:only-of-type {\n",
              "        vertical-align: middle;\n",
              "    }\n",
              "\n",
              "    .dataframe tbody tr th {\n",
              "        vertical-align: top;\n",
              "    }\n",
              "\n",
              "    .dataframe thead th {\n",
              "        text-align: right;\n",
              "    }\n",
              "</style>\n",
              "<table border=\"1\" class=\"dataframe\">\n",
              "  <thead>\n",
              "    <tr style=\"text-align: right;\">\n",
              "      <th></th>\n",
              "      <th>No.</th>\n",
              "      <th>Time</th>\n",
              "      <th>Source</th>\n",
              "      <th>Destination</th>\n",
              "      <th>Protocol</th>\n",
              "      <th>Length</th>\n",
              "      <th>Info</th>\n",
              "    </tr>\n",
              "  </thead>\n",
              "  <tbody>\n",
              "    <tr>\n",
              "      <th>0</th>\n",
              "      <td>1</td>\n",
              "      <td>0.000000</td>\n",
              "      <td>10.10.5.11</td>\n",
              "      <td>10.10.5.10</td>\n",
              "      <td>TCP</td>\n",
              "      <td>5108</td>\n",
              "      <td>49205  &gt;  1291 [PSH, ACK] Seq=1 Ack=1 Win=256 ...</td>\n",
              "    </tr>\n",
              "    <tr>\n",
              "      <th>1</th>\n",
              "      <td>2</td>\n",
              "      <td>0.000050</td>\n",
              "      <td>10.10.5.10</td>\n",
              "      <td>10.10.5.11</td>\n",
              "      <td>TCP</td>\n",
              "      <td>54</td>\n",
              "      <td>1291  &gt;  49205 [ACK] Seq=1 Ack=5055 Win=501 Len=0</td>\n",
              "    </tr>\n",
              "    <tr>\n",
              "      <th>2</th>\n",
              "      <td>3</td>\n",
              "      <td>0.000240</td>\n",
              "      <td>10.10.5.10</td>\n",
              "      <td>10.10.5.11</td>\n",
              "      <td>TCP</td>\n",
              "      <td>69</td>\n",
              "      <td>1291  &gt;  49205 [PSH, ACK] Seq=1 Ack=5055 Win=5...</td>\n",
              "    </tr>\n",
              "    <tr>\n",
              "      <th>3</th>\n",
              "      <td>4</td>\n",
              "      <td>0.186710</td>\n",
              "      <td>10.10.5.11</td>\n",
              "      <td>10.10.5.10</td>\n",
              "      <td>TCP</td>\n",
              "      <td>60</td>\n",
              "      <td>49205  &gt;  1291 [ACK] Seq=5055 Ack=16 Win=256 L...</td>\n",
              "    </tr>\n",
              "    <tr>\n",
              "      <th>4</th>\n",
              "      <td>5</td>\n",
              "      <td>1.119689</td>\n",
              "      <td>10.10.5.14</td>\n",
              "      <td>10.10.5.10</td>\n",
              "      <td>TCP</td>\n",
              "      <td>4697</td>\n",
              "      <td>49195  &gt;  1294 [PSH, ACK] Seq=1 Ack=1 Win=256 ...</td>\n",
              "    </tr>\n",
              "    <tr>\n",
              "      <th>...</th>\n",
              "      <td>...</td>\n",
              "      <td>...</td>\n",
              "      <td>...</td>\n",
              "      <td>...</td>\n",
              "      <td>...</td>\n",
              "      <td>...</td>\n",
              "      <td>...</td>\n",
              "    </tr>\n",
              "    <tr>\n",
              "      <th>34465</th>\n",
              "      <td>34466</td>\n",
              "      <td>819.314740</td>\n",
              "      <td>PcsCompu_03:cb:a5</td>\n",
              "      <td>Broadcast</td>\n",
              "      <td>ARP</td>\n",
              "      <td>60</td>\n",
              "      <td>Who has 10.10.5.0? Tell 10.10.5.12</td>\n",
              "    </tr>\n",
              "    <tr>\n",
              "      <th>34466</th>\n",
              "      <td>34467</td>\n",
              "      <td>820.066244</td>\n",
              "      <td>PcsCompu_60:73:28</td>\n",
              "      <td>Broadcast</td>\n",
              "      <td>ARP</td>\n",
              "      <td>60</td>\n",
              "      <td>Who has 10.10.5.0? Tell 10.10.5.11</td>\n",
              "    </tr>\n",
              "    <tr>\n",
              "      <th>34467</th>\n",
              "      <td>34468</td>\n",
              "      <td>820.146617</td>\n",
              "      <td>PcsCompu_90:18:5a</td>\n",
              "      <td>Broadcast</td>\n",
              "      <td>ARP</td>\n",
              "      <td>60</td>\n",
              "      <td>Who has 10.10.5.0? Tell 10.10.5.14</td>\n",
              "    </tr>\n",
              "    <tr>\n",
              "      <th>34468</th>\n",
              "      <td>34469</td>\n",
              "      <td>820.224071</td>\n",
              "      <td>PcsCompu_c8:46:cd</td>\n",
              "      <td>Broadcast</td>\n",
              "      <td>ARP</td>\n",
              "      <td>60</td>\n",
              "      <td>Who has 10.10.5.0? Tell 10.10.5.13</td>\n",
              "    </tr>\n",
              "    <tr>\n",
              "      <th>34469</th>\n",
              "      <td>34470</td>\n",
              "      <td>820.296219</td>\n",
              "      <td>PcsCompu_03:cb:a5</td>\n",
              "      <td>Broadcast</td>\n",
              "      <td>ARP</td>\n",
              "      <td>60</td>\n",
              "      <td>Who has 10.10.5.0? Tell 10.10.5.12</td>\n",
              "    </tr>\n",
              "  </tbody>\n",
              "</table>\n",
              "<p>34470 rows × 7 columns</p>\n",
              "</div>\n",
              "      <button class=\"colab-df-convert\" onclick=\"convertToInteractive('df-9c7117ab-5851-4c01-82ed-2b18d9b23b8b')\"\n",
              "              title=\"Convert this dataframe to an interactive table.\"\n",
              "              style=\"display:none;\">\n",
              "        \n",
              "  <svg xmlns=\"http://www.w3.org/2000/svg\" height=\"24px\"viewBox=\"0 0 24 24\"\n",
              "       width=\"24px\">\n",
              "    <path d=\"M0 0h24v24H0V0z\" fill=\"none\"/>\n",
              "    <path d=\"M18.56 5.44l.94 2.06.94-2.06 2.06-.94-2.06-.94-.94-2.06-.94 2.06-2.06.94zm-11 1L8.5 8.5l.94-2.06 2.06-.94-2.06-.94L8.5 2.5l-.94 2.06-2.06.94zm10 10l.94 2.06.94-2.06 2.06-.94-2.06-.94-.94-2.06-.94 2.06-2.06.94z\"/><path d=\"M17.41 7.96l-1.37-1.37c-.4-.4-.92-.59-1.43-.59-.52 0-1.04.2-1.43.59L10.3 9.45l-7.72 7.72c-.78.78-.78 2.05 0 2.83L4 21.41c.39.39.9.59 1.41.59.51 0 1.02-.2 1.41-.59l7.78-7.78 2.81-2.81c.8-.78.8-2.07 0-2.86zM5.41 20L4 18.59l7.72-7.72 1.47 1.35L5.41 20z\"/>\n",
              "  </svg>\n",
              "      </button>\n",
              "      \n",
              "  <style>\n",
              "    .colab-df-container {\n",
              "      display:flex;\n",
              "      flex-wrap:wrap;\n",
              "      gap: 12px;\n",
              "    }\n",
              "\n",
              "    .colab-df-convert {\n",
              "      background-color: #E8F0FE;\n",
              "      border: none;\n",
              "      border-radius: 50%;\n",
              "      cursor: pointer;\n",
              "      display: none;\n",
              "      fill: #1967D2;\n",
              "      height: 32px;\n",
              "      padding: 0 0 0 0;\n",
              "      width: 32px;\n",
              "    }\n",
              "\n",
              "    .colab-df-convert:hover {\n",
              "      background-color: #E2EBFA;\n",
              "      box-shadow: 0px 1px 2px rgba(60, 64, 67, 0.3), 0px 1px 3px 1px rgba(60, 64, 67, 0.15);\n",
              "      fill: #174EA6;\n",
              "    }\n",
              "\n",
              "    [theme=dark] .colab-df-convert {\n",
              "      background-color: #3B4455;\n",
              "      fill: #D2E3FC;\n",
              "    }\n",
              "\n",
              "    [theme=dark] .colab-df-convert:hover {\n",
              "      background-color: #434B5C;\n",
              "      box-shadow: 0px 1px 3px 1px rgba(0, 0, 0, 0.15);\n",
              "      filter: drop-shadow(0px 1px 2px rgba(0, 0, 0, 0.3));\n",
              "      fill: #FFFFFF;\n",
              "    }\n",
              "  </style>\n",
              "\n",
              "      <script>\n",
              "        const buttonEl =\n",
              "          document.querySelector('#df-9c7117ab-5851-4c01-82ed-2b18d9b23b8b button.colab-df-convert');\n",
              "        buttonEl.style.display =\n",
              "          google.colab.kernel.accessAllowed ? 'block' : 'none';\n",
              "\n",
              "        async function convertToInteractive(key) {\n",
              "          const element = document.querySelector('#df-9c7117ab-5851-4c01-82ed-2b18d9b23b8b');\n",
              "          const dataTable =\n",
              "            await google.colab.kernel.invokeFunction('convertToInteractive',\n",
              "                                                     [key], {});\n",
              "          if (!dataTable) return;\n",
              "\n",
              "          const docLinkHtml = 'Like what you see? Visit the ' +\n",
              "            '<a target=\"_blank\" href=https://colab.research.google.com/notebooks/data_table.ipynb>data table notebook</a>'\n",
              "            + ' to learn more about interactive tables.';\n",
              "          element.innerHTML = '';\n",
              "          dataTable['output_type'] = 'display_data';\n",
              "          await google.colab.output.renderOutput(dataTable, element);\n",
              "          const docLink = document.createElement('div');\n",
              "          docLink.innerHTML = docLinkHtml;\n",
              "          element.appendChild(docLink);\n",
              "        }\n",
              "      </script>\n",
              "    </div>\n",
              "  </div>\n",
              "  "
            ]
          },
          "metadata": {},
          "execution_count": 50
        }
      ]
    },
    {
      "cell_type": "code",
      "source": [
        "# df = pd.DataFrame(data)\n",
        "X=(data.Time//60)\n",
        "print (X)"
      ],
      "metadata": {
        "colab": {
          "base_uri": "https://localhost:8080/"
        },
        "id": "OB1H45L2aecG",
        "outputId": "b1c298dc-887b-4390-a9b2-8fe542d46343"
      },
      "execution_count": null,
      "outputs": [
        {
          "output_type": "stream",
          "name": "stdout",
          "text": [
            "0         0.0\n",
            "1         0.0\n",
            "2         0.0\n",
            "3         0.0\n",
            "4         0.0\n",
            "         ... \n",
            "34465    13.0\n",
            "34466    13.0\n",
            "34467    13.0\n",
            "34468    13.0\n",
            "34469    13.0\n",
            "Name: Time, Length: 34470, dtype: float64\n"
          ]
        }
      ]
    },
    {
      "cell_type": "code",
      "source": [
        "Y=data.groupby(['Time']).count().count()\n",
        "print (Y)"
      ],
      "metadata": {
        "colab": {
          "base_uri": "https://localhost:8080/"
        },
        "id": "_nPezOeFfJ3v",
        "outputId": "fa93f180-b2d2-4331-8ae5-29ee933a2336"
      },
      "execution_count": null,
      "outputs": [
        {
          "output_type": "stream",
          "name": "stdout",
          "text": [
            "No.            32815\n",
            "Source         32815\n",
            "Destination    32815\n",
            "Protocol       32815\n",
            "Length         32815\n",
            "Info           32815\n",
            "dtype: int64\n"
          ]
        }
      ]
    },
    {
      "cell_type": "code",
      "source": [
        "# df = pd.DataFrame(data)\n",
        "# abc=(df.Time/60)\n",
        "# X = np.linspace(abc)\n",
        "Y=data.groupby(['Time']).count().count()\n",
        "plt.ylabel(\"Total Number of Packets\")\n",
        "plt.xlabel(\"Minutes\")\n",
        "plt.plot(X, Y, linestyle=\"-\", linewidth=3)"
      ],
      "metadata": {
        "colab": {
          "base_uri": "https://localhost:8080/",
          "height": 611
        },
        "id": "R2A0o86uVzB3",
        "outputId": "1d4d7965-8d3a-449c-9249-587cf85a088a"
      },
      "execution_count": null,
      "outputs": [
        {
          "output_type": "error",
          "ename": "ValueError",
          "evalue": "ignored",
          "traceback": [
            "\u001b[0;31m---------------------------------------------------------------------------\u001b[0m",
            "\u001b[0;31mValueError\u001b[0m                                Traceback (most recent call last)",
            "\u001b[0;32m<ipython-input-56-d2c06e1272ee>\u001b[0m in \u001b[0;36m<module>\u001b[0;34m\u001b[0m\n\u001b[1;32m      5\u001b[0m \u001b[0mplt\u001b[0m\u001b[0;34m.\u001b[0m\u001b[0mylabel\u001b[0m\u001b[0;34m(\u001b[0m\u001b[0;34m\"Total Number of Packets\"\u001b[0m\u001b[0;34m)\u001b[0m\u001b[0;34m\u001b[0m\u001b[0;34m\u001b[0m\u001b[0m\n\u001b[1;32m      6\u001b[0m \u001b[0mplt\u001b[0m\u001b[0;34m.\u001b[0m\u001b[0mxlabel\u001b[0m\u001b[0;34m(\u001b[0m\u001b[0;34m\"Minutes\"\u001b[0m\u001b[0;34m)\u001b[0m\u001b[0;34m\u001b[0m\u001b[0;34m\u001b[0m\u001b[0m\n\u001b[0;32m----> 7\u001b[0;31m \u001b[0mplt\u001b[0m\u001b[0;34m.\u001b[0m\u001b[0mplot\u001b[0m\u001b[0;34m(\u001b[0m\u001b[0mX\u001b[0m\u001b[0;34m,\u001b[0m \u001b[0mY\u001b[0m\u001b[0;34m.\u001b[0m\u001b[0mLength\u001b[0m\u001b[0;34m,\u001b[0m \u001b[0mlinestyle\u001b[0m\u001b[0;34m=\u001b[0m\u001b[0;34m\"-\"\u001b[0m\u001b[0;34m,\u001b[0m \u001b[0mlinewidth\u001b[0m\u001b[0;34m=\u001b[0m\u001b[0;36m3\u001b[0m\u001b[0;34m)\u001b[0m\u001b[0;34m\u001b[0m\u001b[0;34m\u001b[0m\u001b[0m\n\u001b[0m",
            "\u001b[0;32m/usr/local/lib/python3.8/dist-packages/matplotlib/pyplot.py\u001b[0m in \u001b[0;36mplot\u001b[0;34m(scalex, scaley, data, *args, **kwargs)\u001b[0m\n\u001b[1;32m   2759\u001b[0m \u001b[0;34m@\u001b[0m\u001b[0mdocstring\u001b[0m\u001b[0;34m.\u001b[0m\u001b[0mcopy\u001b[0m\u001b[0;34m(\u001b[0m\u001b[0mAxes\u001b[0m\u001b[0;34m.\u001b[0m\u001b[0mplot\u001b[0m\u001b[0;34m)\u001b[0m\u001b[0;34m\u001b[0m\u001b[0;34m\u001b[0m\u001b[0m\n\u001b[1;32m   2760\u001b[0m \u001b[0;32mdef\u001b[0m \u001b[0mplot\u001b[0m\u001b[0;34m(\u001b[0m\u001b[0;34m*\u001b[0m\u001b[0margs\u001b[0m\u001b[0;34m,\u001b[0m \u001b[0mscalex\u001b[0m\u001b[0;34m=\u001b[0m\u001b[0;32mTrue\u001b[0m\u001b[0;34m,\u001b[0m \u001b[0mscaley\u001b[0m\u001b[0;34m=\u001b[0m\u001b[0;32mTrue\u001b[0m\u001b[0;34m,\u001b[0m \u001b[0mdata\u001b[0m\u001b[0;34m=\u001b[0m\u001b[0;32mNone\u001b[0m\u001b[0;34m,\u001b[0m \u001b[0;34m**\u001b[0m\u001b[0mkwargs\u001b[0m\u001b[0;34m)\u001b[0m\u001b[0;34m:\u001b[0m\u001b[0;34m\u001b[0m\u001b[0;34m\u001b[0m\u001b[0m\n\u001b[0;32m-> 2761\u001b[0;31m     return gca().plot(\n\u001b[0m\u001b[1;32m   2762\u001b[0m         *args, scalex=scalex, scaley=scaley, **({\"data\": data} if data\n\u001b[1;32m   2763\u001b[0m         is not None else {}), **kwargs)\n",
            "\u001b[0;32m/usr/local/lib/python3.8/dist-packages/matplotlib/axes/_axes.py\u001b[0m in \u001b[0;36mplot\u001b[0;34m(self, scalex, scaley, data, *args, **kwargs)\u001b[0m\n\u001b[1;32m   1645\u001b[0m         \"\"\"\n\u001b[1;32m   1646\u001b[0m         \u001b[0mkwargs\u001b[0m \u001b[0;34m=\u001b[0m \u001b[0mcbook\u001b[0m\u001b[0;34m.\u001b[0m\u001b[0mnormalize_kwargs\u001b[0m\u001b[0;34m(\u001b[0m\u001b[0mkwargs\u001b[0m\u001b[0;34m,\u001b[0m \u001b[0mmlines\u001b[0m\u001b[0;34m.\u001b[0m\u001b[0mLine2D\u001b[0m\u001b[0;34m)\u001b[0m\u001b[0;34m\u001b[0m\u001b[0;34m\u001b[0m\u001b[0m\n\u001b[0;32m-> 1647\u001b[0;31m         \u001b[0mlines\u001b[0m \u001b[0;34m=\u001b[0m \u001b[0;34m[\u001b[0m\u001b[0;34m*\u001b[0m\u001b[0mself\u001b[0m\u001b[0;34m.\u001b[0m\u001b[0m_get_lines\u001b[0m\u001b[0;34m(\u001b[0m\u001b[0;34m*\u001b[0m\u001b[0margs\u001b[0m\u001b[0;34m,\u001b[0m \u001b[0mdata\u001b[0m\u001b[0;34m=\u001b[0m\u001b[0mdata\u001b[0m\u001b[0;34m,\u001b[0m \u001b[0;34m**\u001b[0m\u001b[0mkwargs\u001b[0m\u001b[0;34m)\u001b[0m\u001b[0;34m]\u001b[0m\u001b[0;34m\u001b[0m\u001b[0;34m\u001b[0m\u001b[0m\n\u001b[0m\u001b[1;32m   1648\u001b[0m         \u001b[0;32mfor\u001b[0m \u001b[0mline\u001b[0m \u001b[0;32min\u001b[0m \u001b[0mlines\u001b[0m\u001b[0;34m:\u001b[0m\u001b[0;34m\u001b[0m\u001b[0;34m\u001b[0m\u001b[0m\n\u001b[1;32m   1649\u001b[0m             \u001b[0mself\u001b[0m\u001b[0;34m.\u001b[0m\u001b[0madd_line\u001b[0m\u001b[0;34m(\u001b[0m\u001b[0mline\u001b[0m\u001b[0;34m)\u001b[0m\u001b[0;34m\u001b[0m\u001b[0;34m\u001b[0m\u001b[0m\n",
            "\u001b[0;32m/usr/local/lib/python3.8/dist-packages/matplotlib/axes/_base.py\u001b[0m in \u001b[0;36m__call__\u001b[0;34m(self, *args, **kwargs)\u001b[0m\n\u001b[1;32m    214\u001b[0m                 \u001b[0mthis\u001b[0m \u001b[0;34m+=\u001b[0m \u001b[0margs\u001b[0m\u001b[0;34m[\u001b[0m\u001b[0;36m0\u001b[0m\u001b[0;34m]\u001b[0m\u001b[0;34m,\u001b[0m\u001b[0;34m\u001b[0m\u001b[0;34m\u001b[0m\u001b[0m\n\u001b[1;32m    215\u001b[0m                 \u001b[0margs\u001b[0m \u001b[0;34m=\u001b[0m \u001b[0margs\u001b[0m\u001b[0;34m[\u001b[0m\u001b[0;36m1\u001b[0m\u001b[0;34m:\u001b[0m\u001b[0;34m]\u001b[0m\u001b[0;34m\u001b[0m\u001b[0;34m\u001b[0m\u001b[0m\n\u001b[0;32m--> 216\u001b[0;31m             \u001b[0;32myield\u001b[0m \u001b[0;32mfrom\u001b[0m \u001b[0mself\u001b[0m\u001b[0;34m.\u001b[0m\u001b[0m_plot_args\u001b[0m\u001b[0;34m(\u001b[0m\u001b[0mthis\u001b[0m\u001b[0;34m,\u001b[0m \u001b[0mkwargs\u001b[0m\u001b[0;34m)\u001b[0m\u001b[0;34m\u001b[0m\u001b[0;34m\u001b[0m\u001b[0m\n\u001b[0m\u001b[1;32m    217\u001b[0m \u001b[0;34m\u001b[0m\u001b[0m\n\u001b[1;32m    218\u001b[0m     \u001b[0;32mdef\u001b[0m \u001b[0mget_next_color\u001b[0m\u001b[0;34m(\u001b[0m\u001b[0mself\u001b[0m\u001b[0;34m)\u001b[0m\u001b[0;34m:\u001b[0m\u001b[0;34m\u001b[0m\u001b[0;34m\u001b[0m\u001b[0m\n",
            "\u001b[0;32m/usr/local/lib/python3.8/dist-packages/matplotlib/axes/_base.py\u001b[0m in \u001b[0;36m_plot_args\u001b[0;34m(self, tup, kwargs)\u001b[0m\n\u001b[1;32m    340\u001b[0m \u001b[0;34m\u001b[0m\u001b[0m\n\u001b[1;32m    341\u001b[0m         \u001b[0;32mif\u001b[0m \u001b[0mx\u001b[0m\u001b[0;34m.\u001b[0m\u001b[0mshape\u001b[0m\u001b[0;34m[\u001b[0m\u001b[0;36m0\u001b[0m\u001b[0;34m]\u001b[0m \u001b[0;34m!=\u001b[0m \u001b[0my\u001b[0m\u001b[0;34m.\u001b[0m\u001b[0mshape\u001b[0m\u001b[0;34m[\u001b[0m\u001b[0;36m0\u001b[0m\u001b[0;34m]\u001b[0m\u001b[0;34m:\u001b[0m\u001b[0;34m\u001b[0m\u001b[0;34m\u001b[0m\u001b[0m\n\u001b[0;32m--> 342\u001b[0;31m             raise ValueError(f\"x and y must have same first dimension, but \"\n\u001b[0m\u001b[1;32m    343\u001b[0m                              f\"have shapes {x.shape} and {y.shape}\")\n\u001b[1;32m    344\u001b[0m         \u001b[0;32mif\u001b[0m \u001b[0mx\u001b[0m\u001b[0;34m.\u001b[0m\u001b[0mndim\u001b[0m \u001b[0;34m>\u001b[0m \u001b[0;36m2\u001b[0m \u001b[0;32mor\u001b[0m \u001b[0my\u001b[0m\u001b[0;34m.\u001b[0m\u001b[0mndim\u001b[0m \u001b[0;34m>\u001b[0m \u001b[0;36m2\u001b[0m\u001b[0;34m:\u001b[0m\u001b[0;34m\u001b[0m\u001b[0;34m\u001b[0m\u001b[0m\n",
            "\u001b[0;31mValueError\u001b[0m: x and y must have same first dimension, but have shapes (100,) and (1,)"
          ]
        },
        {
          "output_type": "display_data",
          "data": {
            "text/plain": [
              "<Figure size 432x288 with 1 Axes>"
            ],
            "image/png": "[encoded data removed]"
          },
          "metadata": {
            "needs_background": "light"
          }
        }
      ]
    },
    {
      "cell_type": "code",
      "source": [],
      "metadata": {
        "id": "bb3hz6jVVyuT"
      },
      "execution_count": null,
      "outputs": []
    }
  ]
}